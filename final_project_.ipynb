{
  "nbformat": 4,
  "nbformat_minor": 0,
  "metadata": {
    "colab": {
      "name": "final_project_.ipynb",
      "provenance": [],
      "collapsed_sections": []
    },
    "kernelspec": {
      "name": "python3",
      "display_name": "Python 3"
    },
    "language_info": {
      "name": "python"
    }
  },
  "cells": [
    {
      "cell_type": "markdown",
      "metadata": {
        "id": "RWDU54wZV9DC"
      },
      "source": [
        "# Automobile Spare Parts Management System"
      ]
    },
    {
      "cell_type": "markdown",
      "metadata": {
        "id": "oDPAQnExZ-Wt"
      },
      "source": [
        "Automobile Spare Parts Management System Project is implemented for managing the dealer, customers, claims, Parts, Transactions and also This system also provides an the company to check or analyze the part is in warranty or not and also provides company to check the Monthly report of Dealers and parts that has been failed &Predict the parts that may fail according to the location, mileage and age. Company to understand Monthly report of top ten failed parts with the help of this system they can check Quality of the parts, Pattern of failure mostly reported failed part in the quarter/year."
      ]
    },
    {
      "cell_type": "markdown",
      "metadata": {
        "id": "Q4hAzSNOZfPi"
      },
      "source": [
        "# Importing Libraries"
      ]
    },
    {
      "cell_type": "code",
      "metadata": {
        "id": "68K8jxmDWq4O"
      },
      "source": [
        "import numpy as np \n",
        "import pandas as pd\n",
        "import matplotlib.pyplot as plt\n",
        "import seaborn as sns "
      ],
      "execution_count": 1,
      "outputs": []
    },
    {
      "cell_type": "markdown",
      "metadata": {
        "id": "dN1EYqrhZosk"
      },
      "source": [
        "# Loading Data\n"
      ]
    },
    {
      "cell_type": "code",
      "metadata": {
        "colab": {
          "resources": {
            "http://localhost:8080/nbextensions/google.colab/files.js": {
              "data": "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",
              "ok": true,
              "headers": [
                [
                  "content-type",
                  "application/javascript"
                ]
              ],
              "status": 200,
              "status_text": ""
            }
          },
          "base_uri": "https://localhost:8080/",
          "height": 70
        },
        "id": "1WHUQW8eJLT5",
        "outputId": "e3c14cba-7b66-4a51-d482-aa30f857245a"
      },
      "source": [
        "from google.colab import files \n",
        "datafile = files.upload()"
      ],
      "execution_count": 2,
      "outputs": [
        {
          "output_type": "display_data",
          "data": {
            "text/html": [
              "\n",
              "     <input type=\"file\" id=\"files-d234ea63-0c62-45e6-8830-437a4c1f6b8a\" name=\"files[]\" multiple disabled\n",
              "        style=\"border:none\" />\n",
              "     <output id=\"result-d234ea63-0c62-45e6-8830-437a4c1f6b8a\">\n",
              "      Upload widget is only available when the cell has been executed in the\n",
              "      current browser session. Please rerun this cell to enable.\n",
              "      </output>\n",
              "      <script src=\"/nbextensions/google.colab/files.js\"></script> "
            ],
            "text/plain": [
              "<IPython.core.display.HTML object>"
            ]
          },
          "metadata": {
            "tags": []
          }
        },
        {
          "output_type": "stream",
          "text": [
            "Saving Dataset.xlsx to Dataset.xlsx\n"
          ],
          "name": "stdout"
        }
      ]
    },
    {
      "cell_type": "markdown",
      "metadata": {
        "id": "Mic88UiRa74c"
      },
      "source": [
        "# Reading the Data"
      ]
    },
    {
      "cell_type": "code",
      "metadata": {
        "id": "Cty8Y6ieXLKt"
      },
      "source": [
        "df_dealers = pd.read_excel('Dataset.xlsx',sheet_name='Dealers')\n",
        "df_customers = pd.read_excel('Dataset.xlsx',sheet_name='Customers')\n",
        "df_claims = pd.read_excel('Dataset.xlsx',sheet_name='Claims')\n",
        "df_parts = pd.read_excel('Dataset.xlsx',sheet_name='Parts')\n",
        "df_transactions = pd.read_excel('Dataset.xlsx',sheet_name='Transactions')\n",
        "df_vendors = pd.read_excel('Dataset.xlsx',sheet_name='Vendors')"
      ],
      "execution_count": 3,
      "outputs": []
    },
    {
      "cell_type": "markdown",
      "metadata": {
        "id": "LjtE85b7Q9MI"
      },
      "source": [
        "# Data Preparation and Cleaning"
      ]
    },
    {
      "cell_type": "markdown",
      "metadata": {
        "id": "JZ1UqSepRBS2"
      },
      "source": [
        "To read dataset we have to import pandas and by using read_csv() function of pandas we can read data which have csv format. After reading we determined it's shape i.e rows and columns ,it's information. We can also find mean ,median ,mode etc. After that we used drop() function to remove coloumns which are not needed for analysis."
      ]
    },
    {
      "cell_type": "code",
      "metadata": {
        "colab": {
          "base_uri": "https://localhost:8080/",
          "height": 200
        },
        "id": "v9ohQY3A3W5c",
        "outputId": "b9b517a6-e596-4984-8ba6-19d1b9885e37"
      },
      "source": [
        "df_parts.head()"
      ],
      "execution_count": 5,
      "outputs": [
        {
          "output_type": "execute_result",
          "data": {
            "text/html": [
              "<div>\n",
              "<style scoped>\n",
              "    .dataframe tbody tr th:only-of-type {\n",
              "        vertical-align: middle;\n",
              "    }\n",
              "\n",
              "    .dataframe tbody tr th {\n",
              "        vertical-align: top;\n",
              "    }\n",
              "\n",
              "    .dataframe thead th {\n",
              "        text-align: right;\n",
              "    }\n",
              "</style>\n",
              "<table border=\"1\" class=\"dataframe\">\n",
              "  <thead>\n",
              "    <tr style=\"text-align: right;\">\n",
              "      <th></th>\n",
              "      <th>Part_ID</th>\n",
              "      <th>Part_Name</th>\n",
              "      <th>Manufacturer_ID</th>\n",
              "      <th>Manf_Date</th>\n",
              "    </tr>\n",
              "  </thead>\n",
              "  <tbody>\n",
              "    <tr>\n",
              "      <th>0</th>\n",
              "      <td>901</td>\n",
              "      <td>brake pad</td>\n",
              "      <td>501</td>\n",
              "      <td>1996-08-12</td>\n",
              "    </tr>\n",
              "    <tr>\n",
              "      <th>1</th>\n",
              "      <td>902</td>\n",
              "      <td>axle</td>\n",
              "      <td>502</td>\n",
              "      <td>1997-03-03</td>\n",
              "    </tr>\n",
              "    <tr>\n",
              "      <th>2</th>\n",
              "      <td>903</td>\n",
              "      <td>tie rod</td>\n",
              "      <td>503</td>\n",
              "      <td>1997-06-13</td>\n",
              "    </tr>\n",
              "    <tr>\n",
              "      <th>3</th>\n",
              "      <td>904</td>\n",
              "      <td>differential</td>\n",
              "      <td>504</td>\n",
              "      <td>1997-01-14</td>\n",
              "    </tr>\n",
              "    <tr>\n",
              "      <th>4</th>\n",
              "      <td>905</td>\n",
              "      <td>rear suspension</td>\n",
              "      <td>505</td>\n",
              "      <td>1996-08-19</td>\n",
              "    </tr>\n",
              "  </tbody>\n",
              "</table>\n",
              "</div>"
            ],
            "text/plain": [
              "   Part_ID        Part_Name  Manufacturer_ID  Manf_Date\n",
              "0      901        brake pad              501 1996-08-12\n",
              "1      902            axle               502 1997-03-03\n",
              "2      903          tie rod              503 1997-06-13\n",
              "3      904     differential              504 1997-01-14\n",
              "4      905  rear suspension              505 1996-08-19"
            ]
          },
          "metadata": {
            "tags": []
          },
          "execution_count": 5
        }
      ]
    },
    {
      "cell_type": "code",
      "metadata": {
        "colab": {
          "base_uri": "https://localhost:8080/"
        },
        "id": "wqJPm7ozgJzf",
        "outputId": "99fec402-6d42-45c8-e069-1152c60a845e"
      },
      "source": [
        "df_parts.shape"
      ],
      "execution_count": 6,
      "outputs": [
        {
          "output_type": "execute_result",
          "data": {
            "text/plain": [
              "(11, 4)"
            ]
          },
          "metadata": {
            "tags": []
          },
          "execution_count": 6
        }
      ]
    },
    {
      "cell_type": "code",
      "metadata": {
        "colab": {
          "base_uri": "https://localhost:8080/"
        },
        "id": "BEv9Yip4nM5E",
        "outputId": "bea3c302-3fae-4e71-c925-8e242160e0d9"
      },
      "source": [
        "df_parts.info()"
      ],
      "execution_count": 7,
      "outputs": [
        {
          "output_type": "stream",
          "text": [
            "<class 'pandas.core.frame.DataFrame'>\n",
            "RangeIndex: 11 entries, 0 to 10\n",
            "Data columns (total 4 columns):\n",
            " #   Column           Non-Null Count  Dtype         \n",
            "---  ------           --------------  -----         \n",
            " 0   Part_ID          11 non-null     int64         \n",
            " 1   Part_Name        11 non-null     object        \n",
            " 2   Manufacturer_ID  11 non-null     int64         \n",
            " 3   Manf_Date        11 non-null     datetime64[ns]\n",
            "dtypes: datetime64[ns](1), int64(2), object(1)\n",
            "memory usage: 480.0+ bytes\n"
          ],
          "name": "stdout"
        }
      ]
    },
    {
      "cell_type": "code",
      "metadata": {
        "colab": {
          "base_uri": "https://localhost:8080/",
          "height": 200
        },
        "id": "AA8eVDF_ahHt",
        "outputId": "49625a83-7d35-41cd-90b5-bd3110a4dfd7"
      },
      "source": [
        "df_claims.head()"
      ],
      "execution_count": 8,
      "outputs": [
        {
          "output_type": "execute_result",
          "data": {
            "text/html": [
              "<div>\n",
              "<style scoped>\n",
              "    .dataframe tbody tr th:only-of-type {\n",
              "        vertical-align: middle;\n",
              "    }\n",
              "\n",
              "    .dataframe tbody tr th {\n",
              "        vertical-align: top;\n",
              "    }\n",
              "\n",
              "    .dataframe thead th {\n",
              "        text-align: right;\n",
              "    }\n",
              "</style>\n",
              "<table border=\"1\" class=\"dataframe\">\n",
              "  <thead>\n",
              "    <tr style=\"text-align: right;\">\n",
              "      <th></th>\n",
              "      <th>claim_id</th>\n",
              "      <th>claim_date</th>\n",
              "      <th>claim_amount</th>\n",
              "      <th>Dealer_ID</th>\n",
              "      <th>Cust_ID</th>\n",
              "      <th>Part_ID</th>\n",
              "      <th>Repair_or_Replace</th>\n",
              "    </tr>\n",
              "  </thead>\n",
              "  <tbody>\n",
              "    <tr>\n",
              "      <th>0</th>\n",
              "      <td>1</td>\n",
              "      <td>2020-04-01</td>\n",
              "      <td>36000</td>\n",
              "      <td>5</td>\n",
              "      <td>104</td>\n",
              "      <td>901</td>\n",
              "      <td>rpr</td>\n",
              "    </tr>\n",
              "    <tr>\n",
              "      <th>1</th>\n",
              "      <td>2</td>\n",
              "      <td>2020-04-01</td>\n",
              "      <td>42000</td>\n",
              "      <td>6</td>\n",
              "      <td>106</td>\n",
              "      <td>902</td>\n",
              "      <td>rplc</td>\n",
              "    </tr>\n",
              "    <tr>\n",
              "      <th>2</th>\n",
              "      <td>3</td>\n",
              "      <td>2020-04-01</td>\n",
              "      <td>45000</td>\n",
              "      <td>4</td>\n",
              "      <td>103</td>\n",
              "      <td>903</td>\n",
              "      <td>rpr</td>\n",
              "    </tr>\n",
              "    <tr>\n",
              "      <th>3</th>\n",
              "      <td>4</td>\n",
              "      <td>2020-04-01</td>\n",
              "      <td>56000</td>\n",
              "      <td>3</td>\n",
              "      <td>102</td>\n",
              "      <td>904</td>\n",
              "      <td>rplc</td>\n",
              "    </tr>\n",
              "    <tr>\n",
              "      <th>4</th>\n",
              "      <td>5</td>\n",
              "      <td>2020-04-01</td>\n",
              "      <td>39000</td>\n",
              "      <td>2</td>\n",
              "      <td>105</td>\n",
              "      <td>905</td>\n",
              "      <td>rpr</td>\n",
              "    </tr>\n",
              "  </tbody>\n",
              "</table>\n",
              "</div>"
            ],
            "text/plain": [
              "   claim_id claim_date  claim_amount  ...  Cust_ID  Part_ID  Repair_or_Replace\n",
              "0         1 2020-04-01         36000  ...      104      901                rpr\n",
              "1         2 2020-04-01         42000  ...      106      902               rplc\n",
              "2         3 2020-04-01         45000  ...      103      903                rpr\n",
              "3         4 2020-04-01         56000  ...      102      904               rplc\n",
              "4         5 2020-04-01         39000  ...      105      905                rpr\n",
              "\n",
              "[5 rows x 7 columns]"
            ]
          },
          "metadata": {
            "tags": []
          },
          "execution_count": 8
        }
      ]
    },
    {
      "cell_type": "code",
      "metadata": {
        "colab": {
          "base_uri": "https://localhost:8080/"
        },
        "id": "VJV5j6YcVBEJ",
        "outputId": "7de56a24-1c4a-4141-bf90-5baa2300e942"
      },
      "source": [
        "df_claims.info()"
      ],
      "execution_count": 9,
      "outputs": [
        {
          "output_type": "stream",
          "text": [
            "<class 'pandas.core.frame.DataFrame'>\n",
            "RangeIndex: 20095 entries, 0 to 20094\n",
            "Data columns (total 7 columns):\n",
            " #   Column             Non-Null Count  Dtype         \n",
            "---  ------             --------------  -----         \n",
            " 0   claim_id           20095 non-null  int64         \n",
            " 1   claim_date         20095 non-null  datetime64[ns]\n",
            " 2   claim_amount       20095 non-null  int64         \n",
            " 3   Dealer_ID          20095 non-null  int64         \n",
            " 4   Cust_ID            20095 non-null  int64         \n",
            " 5   Part_ID            20095 non-null  int64         \n",
            " 6   Repair_or_Replace  20095 non-null  object        \n",
            "dtypes: datetime64[ns](1), int64(5), object(1)\n",
            "memory usage: 1.1+ MB\n"
          ],
          "name": "stdout"
        }
      ]
    },
    {
      "cell_type": "code",
      "metadata": {
        "colab": {
          "base_uri": "https://localhost:8080/"
        },
        "id": "UJqJtGnfwaLL",
        "outputId": "2217582d-7348-471b-8471-6064231ca0c7"
      },
      "source": [
        "df_claims.shape"
      ],
      "execution_count": 10,
      "outputs": [
        {
          "output_type": "execute_result",
          "data": {
            "text/plain": [
              "(20095, 7)"
            ]
          },
          "metadata": {
            "tags": []
          },
          "execution_count": 10
        }
      ]
    },
    {
      "cell_type": "code",
      "metadata": {
        "colab": {
          "base_uri": "https://localhost:8080/",
          "height": 200
        },
        "id": "I3iNy_Mpby88",
        "outputId": "115977d8-596b-4fdc-b404-c68aef88fc80"
      },
      "source": [
        "df_customers.head()"
      ],
      "execution_count": 21,
      "outputs": [
        {
          "output_type": "execute_result",
          "data": {
            "text/html": [
              "<div>\n",
              "<style scoped>\n",
              "    .dataframe tbody tr th:only-of-type {\n",
              "        vertical-align: middle;\n",
              "    }\n",
              "\n",
              "    .dataframe tbody tr th {\n",
              "        vertical-align: top;\n",
              "    }\n",
              "\n",
              "    .dataframe thead th {\n",
              "        text-align: right;\n",
              "    }\n",
              "</style>\n",
              "<table border=\"1\" class=\"dataframe\">\n",
              "  <thead>\n",
              "    <tr style=\"text-align: right;\">\n",
              "      <th></th>\n",
              "      <th>Cust_ID</th>\n",
              "      <th>Cust_Name</th>\n",
              "      <th>Dealer_ID</th>\n",
              "      <th>Country</th>\n",
              "      <th>State</th>\n",
              "      <th>City</th>\n",
              "      <th>ZipCode</th>\n",
              "    </tr>\n",
              "  </thead>\n",
              "  <tbody>\n",
              "    <tr>\n",
              "      <th>0</th>\n",
              "      <td>101</td>\n",
              "      <td>pushpak</td>\n",
              "      <td>1</td>\n",
              "      <td>ind</td>\n",
              "      <td>goa</td>\n",
              "      <td>panaji</td>\n",
              "      <td>402201</td>\n",
              "    </tr>\n",
              "    <tr>\n",
              "      <th>1</th>\n",
              "      <td>102</td>\n",
              "      <td>raj</td>\n",
              "      <td>3</td>\n",
              "      <td>ind</td>\n",
              "      <td>karnataka</td>\n",
              "      <td>banglore</td>\n",
              "      <td>403315</td>\n",
              "    </tr>\n",
              "    <tr>\n",
              "      <th>2</th>\n",
              "      <td>103</td>\n",
              "      <td>ranbir</td>\n",
              "      <td>4</td>\n",
              "      <td>ind</td>\n",
              "      <td>gujrat</td>\n",
              "      <td>ahemadabad</td>\n",
              "      <td>326665</td>\n",
              "    </tr>\n",
              "    <tr>\n",
              "      <th>3</th>\n",
              "      <td>104</td>\n",
              "      <td>reyansh</td>\n",
              "      <td>5</td>\n",
              "      <td>ind</td>\n",
              "      <td>orrisa</td>\n",
              "      <td>cuttack</td>\n",
              "      <td>543211</td>\n",
              "    </tr>\n",
              "    <tr>\n",
              "      <th>4</th>\n",
              "      <td>105</td>\n",
              "      <td>raunak</td>\n",
              "      <td>2</td>\n",
              "      <td>ind</td>\n",
              "      <td>delhi</td>\n",
              "      <td>noida</td>\n",
              "      <td>426232</td>\n",
              "    </tr>\n",
              "  </tbody>\n",
              "</table>\n",
              "</div>"
            ],
            "text/plain": [
              "   Cust_ID Cust_Name  Dealer_ID Country      State        City  ZipCode\n",
              "0      101   pushpak          1     ind        goa      panaji   402201\n",
              "1      102       raj          3     ind  karnataka    banglore   403315\n",
              "2      103    ranbir          4     ind     gujrat  ahemadabad   326665\n",
              "3      104   reyansh          5     ind     orrisa     cuttack   543211\n",
              "4      105    raunak          2     ind      delhi       noida   426232"
            ]
          },
          "metadata": {
            "tags": []
          },
          "execution_count": 21
        }
      ]
    },
    {
      "cell_type": "code",
      "metadata": {
        "colab": {
          "base_uri": "https://localhost:8080/"
        },
        "id": "6Na_GuPqctcI",
        "outputId": "85008f55-d806-40e8-dc68-1d201361767f"
      },
      "source": [
        "df_dealers.info()"
      ],
      "execution_count": 20,
      "outputs": [
        {
          "output_type": "stream",
          "text": [
            "<class 'pandas.core.frame.DataFrame'>\n",
            "RangeIndex: 2000 entries, 0 to 1999\n",
            "Data columns (total 6 columns):\n",
            " #   Column          Non-Null Count  Dtype \n",
            "---  ------          --------------  ----- \n",
            " 0   Dealer_ID       2000 non-null   int64 \n",
            " 1   Dealer_Name     2000 non-null   object\n",
            " 2   Dealer_Country  2000 non-null   object\n",
            " 3   State           2000 non-null   object\n",
            " 4   City            2000 non-null   object\n",
            " 5   ZIpCode         2000 non-null   int64 \n",
            "dtypes: int64(2), object(4)\n",
            "memory usage: 93.9+ KB\n"
          ],
          "name": "stdout"
        }
      ]
    },
    {
      "cell_type": "markdown",
      "metadata": {
        "id": "_ReonCgFhpC9"
      },
      "source": [
        "Data has integer values  as well as string "
      ]
    },
    {
      "cell_type": "markdown",
      "metadata": {
        "id": "oORnBwPLYEFb"
      },
      "source": [
        "# Monthly report of top  Dealers who have claimed with high count"
      ]
    },
    {
      "cell_type": "code",
      "metadata": {
        "colab": {
          "base_uri": "https://localhost:8080/"
        },
        "id": "LfASy-fncKlD",
        "outputId": "a4196c9e-47d0-4279-e233-827c307d09ec"
      },
      "source": [
        "df_claims[\"Dealer_ID\"].value_counts().head(10)"
      ],
      "execution_count": 19,
      "outputs": [
        {
          "output_type": "execute_result",
          "data": {
            "text/plain": [
              "5       971\n",
              "2       922\n",
              "1       922\n",
              "3       922\n",
              "6       394\n",
              "4       218\n",
              "1990    176\n",
              "1237    176\n",
              "1236    176\n",
              "1252    176\n",
              "Name: Dealer_ID, dtype: int64"
            ]
          },
          "metadata": {
            "tags": []
          },
          "execution_count": 19
        }
      ]
    },
    {
      "cell_type": "markdown",
      "metadata": {
        "id": "xBVqKfNHb7xt"
      },
      "source": [
        "# Monthly report of top  parts  which have high failed count"
      ]
    },
    {
      "cell_type": "code",
      "metadata": {
        "id": "Lp-Xa5DxRC-0",
        "colab": {
          "base_uri": "https://localhost:8080/",
          "height": 381
        },
        "outputId": "4bef7380-b1b4-4db7-e4cc-d15fc415d119"
      },
      "source": [
        "df_parts"
      ],
      "execution_count": 14,
      "outputs": [
        {
          "output_type": "execute_result",
          "data": {
            "text/html": [
              "<div>\n",
              "<style scoped>\n",
              "    .dataframe tbody tr th:only-of-type {\n",
              "        vertical-align: middle;\n",
              "    }\n",
              "\n",
              "    .dataframe tbody tr th {\n",
              "        vertical-align: top;\n",
              "    }\n",
              "\n",
              "    .dataframe thead th {\n",
              "        text-align: right;\n",
              "    }\n",
              "</style>\n",
              "<table border=\"1\" class=\"dataframe\">\n",
              "  <thead>\n",
              "    <tr style=\"text-align: right;\">\n",
              "      <th></th>\n",
              "      <th>Part_ID</th>\n",
              "      <th>Part_Name</th>\n",
              "      <th>Manufacturer_ID</th>\n",
              "      <th>Manf_Date</th>\n",
              "    </tr>\n",
              "  </thead>\n",
              "  <tbody>\n",
              "    <tr>\n",
              "      <th>0</th>\n",
              "      <td>901</td>\n",
              "      <td>brake pad</td>\n",
              "      <td>501</td>\n",
              "      <td>1996-08-12</td>\n",
              "    </tr>\n",
              "    <tr>\n",
              "      <th>1</th>\n",
              "      <td>902</td>\n",
              "      <td>axle</td>\n",
              "      <td>502</td>\n",
              "      <td>1997-03-03</td>\n",
              "    </tr>\n",
              "    <tr>\n",
              "      <th>2</th>\n",
              "      <td>903</td>\n",
              "      <td>tie rod</td>\n",
              "      <td>503</td>\n",
              "      <td>1997-06-13</td>\n",
              "    </tr>\n",
              "    <tr>\n",
              "      <th>3</th>\n",
              "      <td>904</td>\n",
              "      <td>differential</td>\n",
              "      <td>504</td>\n",
              "      <td>1997-01-14</td>\n",
              "    </tr>\n",
              "    <tr>\n",
              "      <th>4</th>\n",
              "      <td>905</td>\n",
              "      <td>rear suspension</td>\n",
              "      <td>505</td>\n",
              "      <td>1996-08-19</td>\n",
              "    </tr>\n",
              "    <tr>\n",
              "      <th>5</th>\n",
              "      <td>906</td>\n",
              "      <td>radiator</td>\n",
              "      <td>506</td>\n",
              "      <td>1997-03-24</td>\n",
              "    </tr>\n",
              "    <tr>\n",
              "      <th>6</th>\n",
              "      <td>907</td>\n",
              "      <td>clutch kits</td>\n",
              "      <td>503</td>\n",
              "      <td>1997-05-12</td>\n",
              "    </tr>\n",
              "    <tr>\n",
              "      <th>7</th>\n",
              "      <td>908</td>\n",
              "      <td>pressure plates</td>\n",
              "      <td>502</td>\n",
              "      <td>1997-05-20</td>\n",
              "    </tr>\n",
              "    <tr>\n",
              "      <th>8</th>\n",
              "      <td>909</td>\n",
              "      <td>flywheels</td>\n",
              "      <td>505</td>\n",
              "      <td>1997-06-29</td>\n",
              "    </tr>\n",
              "    <tr>\n",
              "      <th>9</th>\n",
              "      <td>910</td>\n",
              "      <td>torque converters</td>\n",
              "      <td>506</td>\n",
              "      <td>1997-07-17</td>\n",
              "    </tr>\n",
              "    <tr>\n",
              "      <th>10</th>\n",
              "      <td>911</td>\n",
              "      <td>flexplates</td>\n",
              "      <td>501</td>\n",
              "      <td>1997-08-23</td>\n",
              "    </tr>\n",
              "  </tbody>\n",
              "</table>\n",
              "</div>"
            ],
            "text/plain": [
              "    Part_ID          Part_Name  Manufacturer_ID  Manf_Date\n",
              "0       901          brake pad              501 1996-08-12\n",
              "1       902              axle               502 1997-03-03\n",
              "2       903            tie rod              503 1997-06-13\n",
              "3       904       differential              504 1997-01-14\n",
              "4       905    rear suspension              505 1996-08-19\n",
              "5       906           radiator              506 1997-03-24\n",
              "6       907        clutch kits              503 1997-05-12\n",
              "7       908    pressure plates              502 1997-05-20\n",
              "8       909          flywheels              505 1997-06-29\n",
              "9       910  torque converters              506 1997-07-17\n",
              "10      911         flexplates              501 1997-08-23"
            ]
          },
          "metadata": {
            "tags": []
          },
          "execution_count": 14
        }
      ]
    },
    {
      "cell_type": "code",
      "metadata": {
        "colab": {
          "base_uri": "https://localhost:8080/"
        },
        "id": "v_BF9Eztb0gt",
        "outputId": "8c150a3c-2a85-4e29-f8f6-e9b59f9e331e"
      },
      "source": [
        "df_claims['Part_ID'].value_counts().head(10)"
      ],
      "execution_count": 15,
      "outputs": [
        {
          "output_type": "execute_result",
          "data": {
            "text/plain": [
              "906    4019\n",
              "905    3349\n",
              "901    3349\n",
              "907    3348\n",
              "904    2010\n",
              "903    2010\n",
              "902    2010\n",
              "Name: Part_ID, dtype: int64"
            ]
          },
          "metadata": {
            "tags": []
          },
          "execution_count": 15
        }
      ]
    },
    {
      "cell_type": "markdown",
      "metadata": {
        "id": "vQ2ZBXIxRoua"
      },
      "source": [
        "# Exploratory Data Analysis (EDA)\n"
      ]
    },
    {
      "cell_type": "markdown",
      "metadata": {
        "id": "ybYi_seXRsTM"
      },
      "source": [
        "After data preparation and cleaning we will plot graphs for better visualization and understanding, this can be done by importing matplotlib and seaborn libraries of python. These libraries have many functions for ploting graphs between datas of different columns as necessary, which we wil discuss below."
      ]
    },
    {
      "cell_type": "code",
      "metadata": {
        "colab": {
          "base_uri": "https://localhost:8080/",
          "height": 408
        },
        "id": "BcNpcjp8cIRv",
        "outputId": "e155941f-f103-4751-c05b-4f357ff897b5"
      },
      "source": [
        "mergedforparts = pd.merge(df_claims,df_parts, how = 'left')\n",
        "mergedforparts"
      ],
      "execution_count": 16,
      "outputs": [
        {
          "output_type": "execute_result",
          "data": {
            "text/html": [
              "<div>\n",
              "<style scoped>\n",
              "    .dataframe tbody tr th:only-of-type {\n",
              "        vertical-align: middle;\n",
              "    }\n",
              "\n",
              "    .dataframe tbody tr th {\n",
              "        vertical-align: top;\n",
              "    }\n",
              "\n",
              "    .dataframe thead th {\n",
              "        text-align: right;\n",
              "    }\n",
              "</style>\n",
              "<table border=\"1\" class=\"dataframe\">\n",
              "  <thead>\n",
              "    <tr style=\"text-align: right;\">\n",
              "      <th></th>\n",
              "      <th>claim_id</th>\n",
              "      <th>claim_date</th>\n",
              "      <th>claim_amount</th>\n",
              "      <th>Dealer_ID</th>\n",
              "      <th>Cust_ID</th>\n",
              "      <th>Part_ID</th>\n",
              "      <th>Repair_or_Replace</th>\n",
              "      <th>Part_Name</th>\n",
              "      <th>Manufacturer_ID</th>\n",
              "      <th>Manf_Date</th>\n",
              "    </tr>\n",
              "  </thead>\n",
              "  <tbody>\n",
              "    <tr>\n",
              "      <th>0</th>\n",
              "      <td>1</td>\n",
              "      <td>2020-04-01</td>\n",
              "      <td>36000</td>\n",
              "      <td>5</td>\n",
              "      <td>104</td>\n",
              "      <td>901</td>\n",
              "      <td>rpr</td>\n",
              "      <td>brake pad</td>\n",
              "      <td>501</td>\n",
              "      <td>1996-08-12</td>\n",
              "    </tr>\n",
              "    <tr>\n",
              "      <th>1</th>\n",
              "      <td>2</td>\n",
              "      <td>2020-04-01</td>\n",
              "      <td>42000</td>\n",
              "      <td>6</td>\n",
              "      <td>106</td>\n",
              "      <td>902</td>\n",
              "      <td>rplc</td>\n",
              "      <td>axle</td>\n",
              "      <td>502</td>\n",
              "      <td>1997-03-03</td>\n",
              "    </tr>\n",
              "    <tr>\n",
              "      <th>2</th>\n",
              "      <td>3</td>\n",
              "      <td>2020-04-01</td>\n",
              "      <td>45000</td>\n",
              "      <td>4</td>\n",
              "      <td>103</td>\n",
              "      <td>903</td>\n",
              "      <td>rpr</td>\n",
              "      <td>tie rod</td>\n",
              "      <td>503</td>\n",
              "      <td>1997-06-13</td>\n",
              "    </tr>\n",
              "    <tr>\n",
              "      <th>3</th>\n",
              "      <td>4</td>\n",
              "      <td>2020-04-01</td>\n",
              "      <td>56000</td>\n",
              "      <td>3</td>\n",
              "      <td>102</td>\n",
              "      <td>904</td>\n",
              "      <td>rplc</td>\n",
              "      <td>differential</td>\n",
              "      <td>504</td>\n",
              "      <td>1997-01-14</td>\n",
              "    </tr>\n",
              "    <tr>\n",
              "      <th>4</th>\n",
              "      <td>5</td>\n",
              "      <td>2020-04-01</td>\n",
              "      <td>39000</td>\n",
              "      <td>2</td>\n",
              "      <td>105</td>\n",
              "      <td>905</td>\n",
              "      <td>rpr</td>\n",
              "      <td>rear suspension</td>\n",
              "      <td>505</td>\n",
              "      <td>1996-08-19</td>\n",
              "    </tr>\n",
              "    <tr>\n",
              "      <th>...</th>\n",
              "      <td>...</td>\n",
              "      <td>...</td>\n",
              "      <td>...</td>\n",
              "      <td>...</td>\n",
              "      <td>...</td>\n",
              "      <td>...</td>\n",
              "      <td>...</td>\n",
              "      <td>...</td>\n",
              "      <td>...</td>\n",
              "      <td>...</td>\n",
              "    </tr>\n",
              "    <tr>\n",
              "      <th>20090</th>\n",
              "      <td>20091</td>\n",
              "      <td>2021-01-24</td>\n",
              "      <td>53000</td>\n",
              "      <td>1274</td>\n",
              "      <td>43974</td>\n",
              "      <td>906</td>\n",
              "      <td>rplc</td>\n",
              "      <td>radiator</td>\n",
              "      <td>506</td>\n",
              "      <td>1997-03-24</td>\n",
              "    </tr>\n",
              "    <tr>\n",
              "      <th>20091</th>\n",
              "      <td>20092</td>\n",
              "      <td>2021-01-24</td>\n",
              "      <td>36000</td>\n",
              "      <td>1275</td>\n",
              "      <td>43975</td>\n",
              "      <td>907</td>\n",
              "      <td>rplc</td>\n",
              "      <td>clutch kits</td>\n",
              "      <td>503</td>\n",
              "      <td>1997-05-12</td>\n",
              "    </tr>\n",
              "    <tr>\n",
              "      <th>20092</th>\n",
              "      <td>20093</td>\n",
              "      <td>2021-01-24</td>\n",
              "      <td>46000</td>\n",
              "      <td>1276</td>\n",
              "      <td>43976</td>\n",
              "      <td>905</td>\n",
              "      <td>rplc</td>\n",
              "      <td>rear suspension</td>\n",
              "      <td>505</td>\n",
              "      <td>1996-08-19</td>\n",
              "    </tr>\n",
              "    <tr>\n",
              "      <th>20093</th>\n",
              "      <td>20094</td>\n",
              "      <td>2021-01-24</td>\n",
              "      <td>56000</td>\n",
              "      <td>1277</td>\n",
              "      <td>43977</td>\n",
              "      <td>904</td>\n",
              "      <td>rplc</td>\n",
              "      <td>differential</td>\n",
              "      <td>504</td>\n",
              "      <td>1997-01-14</td>\n",
              "    </tr>\n",
              "    <tr>\n",
              "      <th>20094</th>\n",
              "      <td>20095</td>\n",
              "      <td>2021-01-24</td>\n",
              "      <td>33000</td>\n",
              "      <td>1278</td>\n",
              "      <td>43978</td>\n",
              "      <td>902</td>\n",
              "      <td>rpr</td>\n",
              "      <td>axle</td>\n",
              "      <td>502</td>\n",
              "      <td>1997-03-03</td>\n",
              "    </tr>\n",
              "  </tbody>\n",
              "</table>\n",
              "<p>20095 rows × 10 columns</p>\n",
              "</div>"
            ],
            "text/plain": [
              "       claim_id claim_date  ...  Manufacturer_ID  Manf_Date\n",
              "0             1 2020-04-01  ...              501 1996-08-12\n",
              "1             2 2020-04-01  ...              502 1997-03-03\n",
              "2             3 2020-04-01  ...              503 1997-06-13\n",
              "3             4 2020-04-01  ...              504 1997-01-14\n",
              "4             5 2020-04-01  ...              505 1996-08-19\n",
              "...         ...        ...  ...              ...        ...\n",
              "20090     20091 2021-01-24  ...              506 1997-03-24\n",
              "20091     20092 2021-01-24  ...              503 1997-05-12\n",
              "20092     20093 2021-01-24  ...              505 1996-08-19\n",
              "20093     20094 2021-01-24  ...              504 1997-01-14\n",
              "20094     20095 2021-01-24  ...              502 1997-03-03\n",
              "\n",
              "[20095 rows x 10 columns]"
            ]
          },
          "metadata": {
            "tags": []
          },
          "execution_count": 16
        }
      ]
    },
    {
      "cell_type": "code",
      "metadata": {
        "colab": {
          "base_uri": "https://localhost:8080/",
          "height": 296
        },
        "id": "xNKmPiKdceGV",
        "outputId": "181f620a-1477-4f6e-870e-024b5d142f28"
      },
      "source": [
        "sns.barplot(x='Part_ID',y='claim_amount',data = mergedforparts)"
      ],
      "execution_count": 17,
      "outputs": [
        {
          "output_type": "execute_result",
          "data": {
            "text/plain": [
              "<matplotlib.axes._subplots.AxesSubplot at 0x7f15deada610>"
            ]
          },
          "metadata": {
            "tags": []
          },
          "execution_count": 17
        },
        {
          "output_type": "display_data",
          "data": {
            "image/png": "[encoded data removed]",
            "text/plain": [
              "<Figure size 432x288 with 1 Axes>"
            ]
          },
          "metadata": {
            "tags": [],
            "needs_background": "light"
          }
        }
      ]
    },
    {
      "cell_type": "markdown",
      "metadata": {
        "id": "45ZBe6OvHiAa"
      },
      "source": [
        "here we see part id 906 is most claimed part "
      ]
    },
    {
      "cell_type": "code",
      "metadata": {
        "colab": {
          "base_uri": "https://localhost:8080/",
          "height": 575
        },
        "id": "AzCV42mAGujI",
        "outputId": "245e0df3-9b73-46c3-e09a-fe2892d06317"
      },
      "source": [
        "mergedforparts['Part_ID'].value_counts(sort=False).plot.pie(autopct='%1.2f%%',figsize=(40,10));\n",
        "plt.legend();"
      ],
      "execution_count": null,
      "outputs": [
        {
          "output_type": "display_data",
          "data": {
            "image/png": "[encoded data removed]",
            "text/plain": [
              "<Figure size 2880x720 with 1 Axes>"
            ]
          },
          "metadata": {
            "tags": []
          }
        }
      ]
    },
    {
      "cell_type": "code",
      "metadata": {
        "colab": {
          "base_uri": "https://localhost:8080/",
          "height": 297
        },
        "id": "zVj_cb5wNAdf",
        "outputId": "fc67ea8c-3cd6-4248-f73a-31979657a2d7"
      },
      "source": [
        "sns.barplot(x='Repair_or_Replace',y = 'Part_ID_906' ,data = rpr)"
      ],
      "execution_count": null,
      "outputs": [
        {
          "output_type": "execute_result",
          "data": {
            "text/plain": [
              "<matplotlib.axes._subplots.AxesSubplot at 0x7fcc14e6a290>"
            ]
          },
          "metadata": {
            "tags": []
          },
          "execution_count": 87
        },
        {
          "output_type": "display_data",
          "data": {
            "image/png": "[encoded data removed]",
            "text/plain": [
              "<Figure size 432x288 with 1 Axes>"
            ]
          },
          "metadata": {
            "tags": [],
            "needs_background": "light"
          }
        }
      ]
    },
    {
      "cell_type": "code",
      "metadata": {
        "colab": {
          "base_uri": "https://localhost:8080/",
          "height": 419
        },
        "id": "AGPBXQRFrWcp",
        "outputId": "3d59145f-a5fe-421c-e8b2-f098f97429b9"
      },
      "source": [
        "mergedforparts[['Repair_or_Replace','Part_ID']]"
      ],
      "execution_count": null,
      "outputs": [
        {
          "output_type": "execute_result",
          "data": {
            "text/html": [
              "<div>\n",
              "<style scoped>\n",
              "    .dataframe tbody tr th:only-of-type {\n",
              "        vertical-align: middle;\n",
              "    }\n",
              "\n",
              "    .dataframe tbody tr th {\n",
              "        vertical-align: top;\n",
              "    }\n",
              "\n",
              "    .dataframe thead th {\n",
              "        text-align: right;\n",
              "    }\n",
              "</style>\n",
              "<table border=\"1\" class=\"dataframe\">\n",
              "  <thead>\n",
              "    <tr style=\"text-align: right;\">\n",
              "      <th></th>\n",
              "      <th>Repair_or_Replace</th>\n",
              "      <th>Part_ID</th>\n",
              "    </tr>\n",
              "  </thead>\n",
              "  <tbody>\n",
              "    <tr>\n",
              "      <th>0</th>\n",
              "      <td>rpr</td>\n",
              "      <td>901</td>\n",
              "    </tr>\n",
              "    <tr>\n",
              "      <th>1</th>\n",
              "      <td>rplc</td>\n",
              "      <td>902</td>\n",
              "    </tr>\n",
              "    <tr>\n",
              "      <th>2</th>\n",
              "      <td>rpr</td>\n",
              "      <td>903</td>\n",
              "    </tr>\n",
              "    <tr>\n",
              "      <th>3</th>\n",
              "      <td>rplc</td>\n",
              "      <td>904</td>\n",
              "    </tr>\n",
              "    <tr>\n",
              "      <th>4</th>\n",
              "      <td>rpr</td>\n",
              "      <td>905</td>\n",
              "    </tr>\n",
              "    <tr>\n",
              "      <th>...</th>\n",
              "      <td>...</td>\n",
              "      <td>...</td>\n",
              "    </tr>\n",
              "    <tr>\n",
              "      <th>20090</th>\n",
              "      <td>rplc</td>\n",
              "      <td>906</td>\n",
              "    </tr>\n",
              "    <tr>\n",
              "      <th>20091</th>\n",
              "      <td>rplc</td>\n",
              "      <td>907</td>\n",
              "    </tr>\n",
              "    <tr>\n",
              "      <th>20092</th>\n",
              "      <td>rplc</td>\n",
              "      <td>905</td>\n",
              "    </tr>\n",
              "    <tr>\n",
              "      <th>20093</th>\n",
              "      <td>rplc</td>\n",
              "      <td>904</td>\n",
              "    </tr>\n",
              "    <tr>\n",
              "      <th>20094</th>\n",
              "      <td>rpr</td>\n",
              "      <td>902</td>\n",
              "    </tr>\n",
              "  </tbody>\n",
              "</table>\n",
              "<p>20095 rows × 2 columns</p>\n",
              "</div>"
            ],
            "text/plain": [
              "      Repair_or_Replace  Part_ID\n",
              "0                   rpr      901\n",
              "1                  rplc      902\n",
              "2                   rpr      903\n",
              "3                  rplc      904\n",
              "4                   rpr      905\n",
              "...                 ...      ...\n",
              "20090              rplc      906\n",
              "20091              rplc      907\n",
              "20092              rplc      905\n",
              "20093              rplc      904\n",
              "20094               rpr      902\n",
              "\n",
              "[20095 rows x 2 columns]"
            ]
          },
          "metadata": {
            "tags": []
          },
          "execution_count": 88
        }
      ]
    },
    {
      "cell_type": "markdown",
      "metadata": {
        "id": "dyAJgWhYdL5W"
      },
      "source": [
        "# **Transaction amount of repair and replace by part**"
      ]
    },
    {
      "cell_type": "code",
      "metadata": {
        "id": "pkQDcycqmFRI",
        "colab": {
          "base_uri": "https://localhost:8080/",
          "height": 204
        },
        "outputId": "037bad53-0b7f-4cbc-a354-48699a9403ba"
      },
      "source": [
        "mergedfortransaction = pd.merge(df_claims,df_transactions, how = 'left',on ='claim_id')\n",
        "mergedfortransaction.head()"
      ],
      "execution_count": null,
      "outputs": [
        {
          "output_type": "execute_result",
          "data": {
            "text/html": [
              "<div>\n",
              "<style scoped>\n",
              "    .dataframe tbody tr th:only-of-type {\n",
              "        vertical-align: middle;\n",
              "    }\n",
              "\n",
              "    .dataframe tbody tr th {\n",
              "        vertical-align: top;\n",
              "    }\n",
              "\n",
              "    .dataframe thead th {\n",
              "        text-align: right;\n",
              "    }\n",
              "</style>\n",
              "<table border=\"1\" class=\"dataframe\">\n",
              "  <thead>\n",
              "    <tr style=\"text-align: right;\">\n",
              "      <th></th>\n",
              "      <th>claim_id</th>\n",
              "      <th>claim_date</th>\n",
              "      <th>claim_amount</th>\n",
              "      <th>Dealer_ID</th>\n",
              "      <th>Cust_ID</th>\n",
              "      <th>Part_ID</th>\n",
              "      <th>Repair_or_Replace</th>\n",
              "      <th>transaction_id</th>\n",
              "      <th>transaction_date</th>\n",
              "      <th>transaction_amount</th>\n",
              "    </tr>\n",
              "  </thead>\n",
              "  <tbody>\n",
              "    <tr>\n",
              "      <th>0</th>\n",
              "      <td>1</td>\n",
              "      <td>2020-04-01</td>\n",
              "      <td>36000</td>\n",
              "      <td>5</td>\n",
              "      <td>104</td>\n",
              "      <td>901</td>\n",
              "      <td>rpr</td>\n",
              "      <td>101</td>\n",
              "      <td>2020-04-01</td>\n",
              "      <td>36000</td>\n",
              "    </tr>\n",
              "    <tr>\n",
              "      <th>1</th>\n",
              "      <td>2</td>\n",
              "      <td>2020-04-01</td>\n",
              "      <td>42000</td>\n",
              "      <td>6</td>\n",
              "      <td>106</td>\n",
              "      <td>902</td>\n",
              "      <td>rplc</td>\n",
              "      <td>102</td>\n",
              "      <td>2020-04-01</td>\n",
              "      <td>42000</td>\n",
              "    </tr>\n",
              "    <tr>\n",
              "      <th>2</th>\n",
              "      <td>3</td>\n",
              "      <td>2020-04-01</td>\n",
              "      <td>45000</td>\n",
              "      <td>4</td>\n",
              "      <td>103</td>\n",
              "      <td>903</td>\n",
              "      <td>rpr</td>\n",
              "      <td>103</td>\n",
              "      <td>2020-04-01</td>\n",
              "      <td>45000</td>\n",
              "    </tr>\n",
              "    <tr>\n",
              "      <th>3</th>\n",
              "      <td>4</td>\n",
              "      <td>2020-04-01</td>\n",
              "      <td>56000</td>\n",
              "      <td>3</td>\n",
              "      <td>102</td>\n",
              "      <td>904</td>\n",
              "      <td>rplc</td>\n",
              "      <td>104</td>\n",
              "      <td>2020-04-01</td>\n",
              "      <td>56000</td>\n",
              "    </tr>\n",
              "    <tr>\n",
              "      <th>4</th>\n",
              "      <td>5</td>\n",
              "      <td>2020-04-01</td>\n",
              "      <td>39000</td>\n",
              "      <td>2</td>\n",
              "      <td>105</td>\n",
              "      <td>905</td>\n",
              "      <td>rpr</td>\n",
              "      <td>105</td>\n",
              "      <td>2020-04-01</td>\n",
              "      <td>39000</td>\n",
              "    </tr>\n",
              "  </tbody>\n",
              "</table>\n",
              "</div>"
            ],
            "text/plain": [
              "   claim_id claim_date  ...  transaction_date  transaction_amount\n",
              "0         1 2020-04-01  ...        2020-04-01               36000\n",
              "1         2 2020-04-01  ...        2020-04-01               42000\n",
              "2         3 2020-04-01  ...        2020-04-01               45000\n",
              "3         4 2020-04-01  ...        2020-04-01               56000\n",
              "4         5 2020-04-01  ...        2020-04-01               39000\n",
              "\n",
              "[5 rows x 10 columns]"
            ]
          },
          "metadata": {
            "tags": []
          },
          "execution_count": 89
        }
      ]
    },
    {
      "cell_type": "code",
      "metadata": {
        "colab": {
          "base_uri": "https://localhost:8080/"
        },
        "id": "CqXVEHpyjrVa",
        "outputId": "c400db74-6ad3-411b-803e-4c6b9e4844b6"
      },
      "source": [
        "mergedfortransaction.Repair_or_Replace.unique()"
      ],
      "execution_count": null,
      "outputs": [
        {
          "output_type": "execute_result",
          "data": {
            "text/plain": [
              "array(['rpr', 'rplc'], dtype=object)"
            ]
          },
          "metadata": {
            "tags": []
          },
          "execution_count": 90
        }
      ]
    },
    {
      "cell_type": "code",
      "metadata": {
        "id": "AoV6rOE2Si9V",
        "colab": {
          "base_uri": "https://localhost:8080/",
          "height": 301
        },
        "outputId": "86962eb9-2346-4b2a-bdeb-4241acb65d63"
      },
      "source": [
        "sns.barplot(x=\"Part_ID\",y = 'transaction_amount',hue ='Repair_or_Replace',data = mergedfortransaction)"
      ],
      "execution_count": null,
      "outputs": [
        {
          "output_type": "execute_result",
          "data": {
            "text/plain": [
              "<matplotlib.axes._subplots.AxesSubplot at 0x7fcc18e3c310>"
            ]
          },
          "metadata": {
            "tags": []
          },
          "execution_count": 94
        },
        {
          "output_type": "display_data",
          "data": {
            "image/png": "[encoded data removed]",
            "text/plain": [
              "<Figure size 432x288 with 1 Axes>"
            ]
          },
          "metadata": {
            "tags": [],
            "needs_background": "light"
          }
        }
      ]
    },
    {
      "cell_type": "markdown",
      "metadata": {
        "id": "YM9TxLLxdskF"
      },
      "source": [
        "# **Predicting the parts that may fail according to the location**"
      ]
    },
    {
      "cell_type": "code",
      "metadata": {
        "id": "xj1XhcctYmDt",
        "colab": {
          "base_uri": "https://localhost:8080/",
          "height": 204
        },
        "outputId": "defd6155-da84-457e-9efb-130a471e729d"
      },
      "source": [
        "mergedfortransaction[\"Vendor_Location\"] = mergedfortransaction['Dealer_ID'].map(df_dealers['City'])\n",
        "mergedfortransaction.head()"
      ],
      "execution_count": null,
      "outputs": [
        {
          "output_type": "execute_result",
          "data": {
            "text/html": [
              "<div>\n",
              "<style scoped>\n",
              "    .dataframe tbody tr th:only-of-type {\n",
              "        vertical-align: middle;\n",
              "    }\n",
              "\n",
              "    .dataframe tbody tr th {\n",
              "        vertical-align: top;\n",
              "    }\n",
              "\n",
              "    .dataframe thead th {\n",
              "        text-align: right;\n",
              "    }\n",
              "</style>\n",
              "<table border=\"1\" class=\"dataframe\">\n",
              "  <thead>\n",
              "    <tr style=\"text-align: right;\">\n",
              "      <th></th>\n",
              "      <th>claim_id</th>\n",
              "      <th>claim_date</th>\n",
              "      <th>claim_amount</th>\n",
              "      <th>Dealer_ID</th>\n",
              "      <th>Cust_ID</th>\n",
              "      <th>Part_ID</th>\n",
              "      <th>Repair_or_Replace</th>\n",
              "      <th>transaction_id</th>\n",
              "      <th>transaction_date</th>\n",
              "      <th>transaction_amount</th>\n",
              "      <th>Vendor_Location</th>\n",
              "    </tr>\n",
              "  </thead>\n",
              "  <tbody>\n",
              "    <tr>\n",
              "      <th>0</th>\n",
              "      <td>1</td>\n",
              "      <td>2020-04-01</td>\n",
              "      <td>36000</td>\n",
              "      <td>5</td>\n",
              "      <td>104</td>\n",
              "      <td>901</td>\n",
              "      <td>rpr</td>\n",
              "      <td>101</td>\n",
              "      <td>2020-04-01</td>\n",
              "      <td>36000</td>\n",
              "      <td>Mumbai</td>\n",
              "    </tr>\n",
              "    <tr>\n",
              "      <th>1</th>\n",
              "      <td>2</td>\n",
              "      <td>2020-04-01</td>\n",
              "      <td>42000</td>\n",
              "      <td>6</td>\n",
              "      <td>106</td>\n",
              "      <td>902</td>\n",
              "      <td>rplc</td>\n",
              "      <td>102</td>\n",
              "      <td>2020-04-01</td>\n",
              "      <td>42000</td>\n",
              "      <td>Panji</td>\n",
              "    </tr>\n",
              "    <tr>\n",
              "      <th>2</th>\n",
              "      <td>3</td>\n",
              "      <td>2020-04-01</td>\n",
              "      <td>45000</td>\n",
              "      <td>4</td>\n",
              "      <td>103</td>\n",
              "      <td>903</td>\n",
              "      <td>rpr</td>\n",
              "      <td>103</td>\n",
              "      <td>2020-04-01</td>\n",
              "      <td>45000</td>\n",
              "      <td>Cuttack</td>\n",
              "    </tr>\n",
              "    <tr>\n",
              "      <th>3</th>\n",
              "      <td>4</td>\n",
              "      <td>2020-04-01</td>\n",
              "      <td>56000</td>\n",
              "      <td>3</td>\n",
              "      <td>102</td>\n",
              "      <td>904</td>\n",
              "      <td>rplc</td>\n",
              "      <td>104</td>\n",
              "      <td>2020-04-01</td>\n",
              "      <td>56000</td>\n",
              "      <td>Ahemdabad</td>\n",
              "    </tr>\n",
              "    <tr>\n",
              "      <th>4</th>\n",
              "      <td>5</td>\n",
              "      <td>2020-04-01</td>\n",
              "      <td>39000</td>\n",
              "      <td>2</td>\n",
              "      <td>105</td>\n",
              "      <td>905</td>\n",
              "      <td>rpr</td>\n",
              "      <td>105</td>\n",
              "      <td>2020-04-01</td>\n",
              "      <td>39000</td>\n",
              "      <td>Bangalore</td>\n",
              "    </tr>\n",
              "  </tbody>\n",
              "</table>\n",
              "</div>"
            ],
            "text/plain": [
              "   claim_id claim_date  ...  transaction_amount  Vendor_Location\n",
              "0         1 2020-04-01  ...               36000           Mumbai\n",
              "1         2 2020-04-01  ...               42000            Panji\n",
              "2         3 2020-04-01  ...               45000          Cuttack\n",
              "3         4 2020-04-01  ...               56000        Ahemdabad\n",
              "4         5 2020-04-01  ...               39000        Bangalore\n",
              "\n",
              "[5 rows x 11 columns]"
            ]
          },
          "metadata": {
            "tags": []
          },
          "execution_count": 95
        }
      ]
    },
    {
      "cell_type": "code",
      "metadata": {
        "colab": {
          "base_uri": "https://localhost:8080/",
          "height": 297
        },
        "id": "PA4gp8NXgnJX",
        "outputId": "0c3ab882-77d4-4885-9f90-48a3fa4040f8"
      },
      "source": [
        "sns.barplot(y='transaction_amount',x = 'Vendor_Location',hue = 'Repair_or_Replace',data = mergedfortransaction)"
      ],
      "execution_count": null,
      "outputs": [
        {
          "output_type": "execute_result",
          "data": {
            "text/plain": [
              "<matplotlib.axes._subplots.AxesSubplot at 0x7fcc175ad7d0>"
            ]
          },
          "metadata": {
            "tags": []
          },
          "execution_count": 96
        },
        {
          "output_type": "display_data",
          "data": {
            "image/png": "[encoded data removed]",
            "text/plain": [
              "<Figure size 432x288 with 1 Axes>"
            ]
          },
          "metadata": {
            "tags": [],
            "needs_background": "light"
          }
        }
      ]
    },
    {
      "cell_type": "code",
      "metadata": {
        "colab": {
          "base_uri": "https://localhost:8080/",
          "height": 575
        },
        "id": "wP7-wDrDPGbq",
        "outputId": "1c57dfb2-8d3a-438d-e1b5-33accc99c4ab"
      },
      "source": [
        "mergedfortransaction['Vendor_Location'].value_counts(sort=False).plot.pie(autopct='%1.2f%%',figsize=(40,10)); \n"
      ],
      "execution_count": null,
      "outputs": [
        {
          "output_type": "display_data",
          "data": {
            "image/png": "[encoded data removed]",
            "text/plain": [
              "<Figure size 2880x720 with 1 Axes>"
            ]
          },
          "metadata": {
            "tags": []
          }
        }
      ]
    },
    {
      "cell_type": "markdown",
      "metadata": {
        "id": "Gw0u-cwigTty"
      },
      "source": [
        "# **Predicting the parts that may fail according to the Age**\n",
        "\n",
        "\n",
        "\n",
        "\n",
        "\n"
      ]
    },
    {
      "cell_type": "code",
      "metadata": {
        "id": "JAlSiALOsdOS"
      },
      "source": [
        "mergedforAge = pd.merge(mergedfortransaction,df_parts,how ='left',on ='Part_ID')"
      ],
      "execution_count": null,
      "outputs": []
    },
    {
      "cell_type": "code",
      "metadata": {
        "id": "9t74Lma4uI8N"
      },
      "source": [
        "mergedforAge['Age'] = mergedforAge['claim_date'] - mergedforAge['Manf_Date'] "
      ],
      "execution_count": null,
      "outputs": []
    },
    {
      "cell_type": "code",
      "metadata": {
        "colab": {
          "base_uri": "https://localhost:8080/",
          "height": 609
        },
        "id": "IyzNJtYBsHS8",
        "outputId": "10cca4d4-e158-42e0-d8ab-cc2fbef7aa59"
      },
      "source": [
        "mergedforAge"
      ],
      "execution_count": null,
      "outputs": [
        {
          "output_type": "execute_result",
          "data": {
            "text/html": [
              "<div>\n",
              "<style scoped>\n",
              "    .dataframe tbody tr th:only-of-type {\n",
              "        vertical-align: middle;\n",
              "    }\n",
              "\n",
              "    .dataframe tbody tr th {\n",
              "        vertical-align: top;\n",
              "    }\n",
              "\n",
              "    .dataframe thead th {\n",
              "        text-align: right;\n",
              "    }\n",
              "</style>\n",
              "<table border=\"1\" class=\"dataframe\">\n",
              "  <thead>\n",
              "    <tr style=\"text-align: right;\">\n",
              "      <th></th>\n",
              "      <th>claim_id</th>\n",
              "      <th>claim_date</th>\n",
              "      <th>claim_amount</th>\n",
              "      <th>Dealer_ID</th>\n",
              "      <th>Cust_ID</th>\n",
              "      <th>Part_ID</th>\n",
              "      <th>Repair_or_Replace</th>\n",
              "      <th>transaction_id</th>\n",
              "      <th>transaction_date</th>\n",
              "      <th>transaction_amount</th>\n",
              "      <th>Vendor_Location</th>\n",
              "      <th>Part_Name</th>\n",
              "      <th>Manufacturer_ID</th>\n",
              "      <th>Manf_Date</th>\n",
              "      <th>Age</th>\n",
              "    </tr>\n",
              "  </thead>\n",
              "  <tbody>\n",
              "    <tr>\n",
              "      <th>0</th>\n",
              "      <td>1</td>\n",
              "      <td>2020-04-01</td>\n",
              "      <td>36000</td>\n",
              "      <td>5</td>\n",
              "      <td>104</td>\n",
              "      <td>901</td>\n",
              "      <td>rpr</td>\n",
              "      <td>101</td>\n",
              "      <td>2020-04-01</td>\n",
              "      <td>36000</td>\n",
              "      <td>Mumbai</td>\n",
              "      <td>brake pad</td>\n",
              "      <td>501</td>\n",
              "      <td>1996-08-12</td>\n",
              "      <td>8633 days</td>\n",
              "    </tr>\n",
              "    <tr>\n",
              "      <th>1</th>\n",
              "      <td>2</td>\n",
              "      <td>2020-04-01</td>\n",
              "      <td>42000</td>\n",
              "      <td>6</td>\n",
              "      <td>106</td>\n",
              "      <td>902</td>\n",
              "      <td>rplc</td>\n",
              "      <td>102</td>\n",
              "      <td>2020-04-01</td>\n",
              "      <td>42000</td>\n",
              "      <td>Panji</td>\n",
              "      <td>axle</td>\n",
              "      <td>502</td>\n",
              "      <td>1997-03-03</td>\n",
              "      <td>8430 days</td>\n",
              "    </tr>\n",
              "    <tr>\n",
              "      <th>2</th>\n",
              "      <td>3</td>\n",
              "      <td>2020-04-01</td>\n",
              "      <td>45000</td>\n",
              "      <td>4</td>\n",
              "      <td>103</td>\n",
              "      <td>903</td>\n",
              "      <td>rpr</td>\n",
              "      <td>103</td>\n",
              "      <td>2020-04-01</td>\n",
              "      <td>45000</td>\n",
              "      <td>Cuttack</td>\n",
              "      <td>tie rod</td>\n",
              "      <td>503</td>\n",
              "      <td>1997-06-13</td>\n",
              "      <td>8328 days</td>\n",
              "    </tr>\n",
              "    <tr>\n",
              "      <th>3</th>\n",
              "      <td>4</td>\n",
              "      <td>2020-04-01</td>\n",
              "      <td>56000</td>\n",
              "      <td>3</td>\n",
              "      <td>102</td>\n",
              "      <td>904</td>\n",
              "      <td>rplc</td>\n",
              "      <td>104</td>\n",
              "      <td>2020-04-01</td>\n",
              "      <td>56000</td>\n",
              "      <td>Ahemdabad</td>\n",
              "      <td>differential</td>\n",
              "      <td>504</td>\n",
              "      <td>1997-01-14</td>\n",
              "      <td>8478 days</td>\n",
              "    </tr>\n",
              "    <tr>\n",
              "      <th>4</th>\n",
              "      <td>5</td>\n",
              "      <td>2020-04-01</td>\n",
              "      <td>39000</td>\n",
              "      <td>2</td>\n",
              "      <td>105</td>\n",
              "      <td>905</td>\n",
              "      <td>rpr</td>\n",
              "      <td>105</td>\n",
              "      <td>2020-04-01</td>\n",
              "      <td>39000</td>\n",
              "      <td>Bangalore</td>\n",
              "      <td>rear suspension</td>\n",
              "      <td>505</td>\n",
              "      <td>1996-08-19</td>\n",
              "      <td>8626 days</td>\n",
              "    </tr>\n",
              "    <tr>\n",
              "      <th>...</th>\n",
              "      <td>...</td>\n",
              "      <td>...</td>\n",
              "      <td>...</td>\n",
              "      <td>...</td>\n",
              "      <td>...</td>\n",
              "      <td>...</td>\n",
              "      <td>...</td>\n",
              "      <td>...</td>\n",
              "      <td>...</td>\n",
              "      <td>...</td>\n",
              "      <td>...</td>\n",
              "      <td>...</td>\n",
              "      <td>...</td>\n",
              "      <td>...</td>\n",
              "      <td>...</td>\n",
              "    </tr>\n",
              "    <tr>\n",
              "      <th>20090</th>\n",
              "      <td>20091</td>\n",
              "      <td>2021-01-24</td>\n",
              "      <td>53000</td>\n",
              "      <td>1274</td>\n",
              "      <td>43974</td>\n",
              "      <td>906</td>\n",
              "      <td>rplc</td>\n",
              "      <td>20091</td>\n",
              "      <td>2021-01-24</td>\n",
              "      <td>53000</td>\n",
              "      <td>Cuttack</td>\n",
              "      <td>radiator</td>\n",
              "      <td>506</td>\n",
              "      <td>1997-03-24</td>\n",
              "      <td>8707 days</td>\n",
              "    </tr>\n",
              "    <tr>\n",
              "      <th>20091</th>\n",
              "      <td>20092</td>\n",
              "      <td>2021-01-24</td>\n",
              "      <td>36000</td>\n",
              "      <td>1275</td>\n",
              "      <td>43975</td>\n",
              "      <td>907</td>\n",
              "      <td>rplc</td>\n",
              "      <td>20092</td>\n",
              "      <td>2021-01-24</td>\n",
              "      <td>36000</td>\n",
              "      <td>Mumbai</td>\n",
              "      <td>clutch kits</td>\n",
              "      <td>503</td>\n",
              "      <td>1997-05-12</td>\n",
              "      <td>8658 days</td>\n",
              "    </tr>\n",
              "    <tr>\n",
              "      <th>20092</th>\n",
              "      <td>20093</td>\n",
              "      <td>2021-01-24</td>\n",
              "      <td>46000</td>\n",
              "      <td>1276</td>\n",
              "      <td>43976</td>\n",
              "      <td>905</td>\n",
              "      <td>rplc</td>\n",
              "      <td>20093</td>\n",
              "      <td>2021-01-24</td>\n",
              "      <td>46000</td>\n",
              "      <td>Panji</td>\n",
              "      <td>rear suspension</td>\n",
              "      <td>505</td>\n",
              "      <td>1996-08-19</td>\n",
              "      <td>8924 days</td>\n",
              "    </tr>\n",
              "    <tr>\n",
              "      <th>20093</th>\n",
              "      <td>20094</td>\n",
              "      <td>2021-01-24</td>\n",
              "      <td>56000</td>\n",
              "      <td>1277</td>\n",
              "      <td>43977</td>\n",
              "      <td>904</td>\n",
              "      <td>rplc</td>\n",
              "      <td>20094</td>\n",
              "      <td>2021-01-24</td>\n",
              "      <td>56000</td>\n",
              "      <td>Naoida</td>\n",
              "      <td>differential</td>\n",
              "      <td>504</td>\n",
              "      <td>1997-01-14</td>\n",
              "      <td>8776 days</td>\n",
              "    </tr>\n",
              "    <tr>\n",
              "      <th>20094</th>\n",
              "      <td>20095</td>\n",
              "      <td>2021-01-24</td>\n",
              "      <td>33000</td>\n",
              "      <td>1278</td>\n",
              "      <td>43978</td>\n",
              "      <td>902</td>\n",
              "      <td>rpr</td>\n",
              "      <td>20095</td>\n",
              "      <td>2021-01-24</td>\n",
              "      <td>33000</td>\n",
              "      <td>Bangalore</td>\n",
              "      <td>axle</td>\n",
              "      <td>502</td>\n",
              "      <td>1997-03-03</td>\n",
              "      <td>8728 days</td>\n",
              "    </tr>\n",
              "  </tbody>\n",
              "</table>\n",
              "<p>20095 rows × 15 columns</p>\n",
              "</div>"
            ],
            "text/plain": [
              "       claim_id claim_date  claim_amount  ...  Manufacturer_ID  Manf_Date       Age\n",
              "0             1 2020-04-01         36000  ...              501 1996-08-12 8633 days\n",
              "1             2 2020-04-01         42000  ...              502 1997-03-03 8430 days\n",
              "2             3 2020-04-01         45000  ...              503 1997-06-13 8328 days\n",
              "3             4 2020-04-01         56000  ...              504 1997-01-14 8478 days\n",
              "4             5 2020-04-01         39000  ...              505 1996-08-19 8626 days\n",
              "...         ...        ...           ...  ...              ...        ...       ...\n",
              "20090     20091 2021-01-24         53000  ...              506 1997-03-24 8707 days\n",
              "20091     20092 2021-01-24         36000  ...              503 1997-05-12 8658 days\n",
              "20092     20093 2021-01-24         46000  ...              505 1996-08-19 8924 days\n",
              "20093     20094 2021-01-24         56000  ...              504 1997-01-14 8776 days\n",
              "20094     20095 2021-01-24         33000  ...              502 1997-03-03 8728 days\n",
              "\n",
              "[20095 rows x 15 columns]"
            ]
          },
          "metadata": {
            "tags": []
          },
          "execution_count": 27
        }
      ]
    },
    {
      "cell_type": "code",
      "metadata": {
        "id": "mdVBgXmav-a4"
      },
      "source": [
        "import datetime \n",
        "mergedforAge[\"Age\"] = mergedforAge[\"Age\"].apply(lambda x: x.days)"
      ],
      "execution_count": null,
      "outputs": []
    },
    {
      "cell_type": "code",
      "metadata": {
        "colab": {
          "base_uri": "https://localhost:8080/",
          "height": 386
        },
        "id": "OPw-YLcu0UFO",
        "outputId": "4bac9320-ff28-459c-9baa-f95befcebe19"
      },
      "source": [
        "sns.displot(mergedforAge['Part_ID'],kde =True)"
      ],
      "execution_count": null,
      "outputs": [
        {
          "output_type": "execute_result",
          "data": {
            "text/plain": [
              "<seaborn.axisgrid.FacetGrid at 0x7fcc1ac0bc90>"
            ]
          },
          "metadata": {
            "tags": []
          },
          "execution_count": 29
        },
        {
          "output_type": "display_data",
          "data": {
            "image/png": "[encoded data removed]",
            "text/plain": [
              "<Figure size 360x360 with 1 Axes>"
            ]
          },
          "metadata": {
            "tags": [],
            "needs_background": "light"
          }
        }
      ]
    },
    {
      "cell_type": "code",
      "metadata": {
        "colab": {
          "base_uri": "https://localhost:8080/",
          "height": 301
        },
        "id": "QNS42W6fumMw",
        "outputId": "f98f61c1-1675-4e28-a50d-b68a0d47b09c"
      },
      "source": [
        "sns.violinplot(y='Age',x = 'Part_ID',hue = 'Repair_or_Replace',data = mergedforAge)"
      ],
      "execution_count": null,
      "outputs": [
        {
          "output_type": "execute_result",
          "data": {
            "text/plain": [
              "<matplotlib.axes._subplots.AxesSubplot at 0x7fcc1a577450>"
            ]
          },
          "metadata": {
            "tags": []
          },
          "execution_count": 30
        },
        {
          "output_type": "display_data",
          "data": {
            "image/png": "[encoded data removed]",
            "text/plain": [
              "<Figure size 432x288 with 1 Axes>"
            ]
          },
          "metadata": {
            "tags": [],
            "needs_background": "light"
          }
        }
      ]
    },
    {
      "cell_type": "code",
      "metadata": {
        "colab": {
          "base_uri": "https://localhost:8080/",
          "height": 602
        },
        "id": "tEya6reH0ATj",
        "outputId": "a6d8c117-d64e-4162-f524-ef2590dc8020"
      },
      "source": [
        "sns.jointplot(y='Age',x = 'Part_ID',hue = 'Repair_or_Replace',data = mergedforAge,height=8)"
      ],
      "execution_count": null,
      "outputs": [
        {
          "output_type": "execute_result",
          "data": {
            "text/plain": [
              "<seaborn.axisgrid.JointGrid at 0x7fcc1c3fd910>"
            ]
          },
          "metadata": {
            "tags": []
          },
          "execution_count": 31
        },
        {
          "output_type": "display_data",
          "data": {
            "image/png": "[encoded data removed]",
            "text/plain": [
              "<Figure size 576x576 with 3 Axes>"
            ]
          },
          "metadata": {
            "tags": [],
            "needs_background": "light"
          }
        }
      ]
    },
    {
      "cell_type": "code",
      "metadata": {
        "colab": {
          "base_uri": "https://localhost:8080/",
          "height": 297
        },
        "id": "QHu31bIef93u",
        "outputId": "d354e35b-ac26-4c87-b82f-4ae3d76310f0"
      },
      "source": [
        "sns.barplot(y='Age',x = 'Part_ID',hue = 'Repair_or_Replace',data = mergedforAge)"
      ],
      "execution_count": null,
      "outputs": [
        {
          "output_type": "execute_result",
          "data": {
            "text/plain": [
              "<matplotlib.axes._subplots.AxesSubplot at 0x7fcc154cd850>"
            ]
          },
          "metadata": {
            "tags": []
          },
          "execution_count": 32
        },
        {
          "output_type": "display_data",
          "data": {
            "image/png": "[encoded data removed]",
            "text/plain": [
              "<Figure size 432x288 with 1 Axes>"
            ]
          },
          "metadata": {
            "tags": [],
            "needs_background": "light"
          }
        }
      ]
    },
    {
      "cell_type": "code",
      "metadata": {
        "colab": {
          "base_uri": "https://localhost:8080/",
          "height": 609
        },
        "id": "lLz-qDAGD7zQ",
        "outputId": "668ed6f6-86c4-40de-f55a-87008047e189"
      },
      "source": [
        "mergedforAge"
      ],
      "execution_count": null,
      "outputs": [
        {
          "output_type": "execute_result",
          "data": {
            "text/html": [
              "<div>\n",
              "<style scoped>\n",
              "    .dataframe tbody tr th:only-of-type {\n",
              "        vertical-align: middle;\n",
              "    }\n",
              "\n",
              "    .dataframe tbody tr th {\n",
              "        vertical-align: top;\n",
              "    }\n",
              "\n",
              "    .dataframe thead th {\n",
              "        text-align: right;\n",
              "    }\n",
              "</style>\n",
              "<table border=\"1\" class=\"dataframe\">\n",
              "  <thead>\n",
              "    <tr style=\"text-align: right;\">\n",
              "      <th></th>\n",
              "      <th>claim_id</th>\n",
              "      <th>claim_date</th>\n",
              "      <th>claim_amount</th>\n",
              "      <th>Dealer_ID</th>\n",
              "      <th>Cust_ID</th>\n",
              "      <th>Part_ID</th>\n",
              "      <th>Repair_or_Replace</th>\n",
              "      <th>transaction_id</th>\n",
              "      <th>transaction_date</th>\n",
              "      <th>transaction_amount</th>\n",
              "      <th>Vendor_Location</th>\n",
              "      <th>Part_Name</th>\n",
              "      <th>Manufacturer_ID</th>\n",
              "      <th>Manf_Date</th>\n",
              "      <th>Age</th>\n",
              "    </tr>\n",
              "  </thead>\n",
              "  <tbody>\n",
              "    <tr>\n",
              "      <th>0</th>\n",
              "      <td>1</td>\n",
              "      <td>2020-04-01</td>\n",
              "      <td>36000</td>\n",
              "      <td>5</td>\n",
              "      <td>104</td>\n",
              "      <td>901</td>\n",
              "      <td>rpr</td>\n",
              "      <td>101</td>\n",
              "      <td>2020-04-01</td>\n",
              "      <td>36000</td>\n",
              "      <td>Mumbai</td>\n",
              "      <td>brake pad</td>\n",
              "      <td>501</td>\n",
              "      <td>1996-08-12</td>\n",
              "      <td>8633</td>\n",
              "    </tr>\n",
              "    <tr>\n",
              "      <th>1</th>\n",
              "      <td>2</td>\n",
              "      <td>2020-04-01</td>\n",
              "      <td>42000</td>\n",
              "      <td>6</td>\n",
              "      <td>106</td>\n",
              "      <td>902</td>\n",
              "      <td>rplc</td>\n",
              "      <td>102</td>\n",
              "      <td>2020-04-01</td>\n",
              "      <td>42000</td>\n",
              "      <td>Panji</td>\n",
              "      <td>axle</td>\n",
              "      <td>502</td>\n",
              "      <td>1997-03-03</td>\n",
              "      <td>8430</td>\n",
              "    </tr>\n",
              "    <tr>\n",
              "      <th>2</th>\n",
              "      <td>3</td>\n",
              "      <td>2020-04-01</td>\n",
              "      <td>45000</td>\n",
              "      <td>4</td>\n",
              "      <td>103</td>\n",
              "      <td>903</td>\n",
              "      <td>rpr</td>\n",
              "      <td>103</td>\n",
              "      <td>2020-04-01</td>\n",
              "      <td>45000</td>\n",
              "      <td>Cuttack</td>\n",
              "      <td>tie rod</td>\n",
              "      <td>503</td>\n",
              "      <td>1997-06-13</td>\n",
              "      <td>8328</td>\n",
              "    </tr>\n",
              "    <tr>\n",
              "      <th>3</th>\n",
              "      <td>4</td>\n",
              "      <td>2020-04-01</td>\n",
              "      <td>56000</td>\n",
              "      <td>3</td>\n",
              "      <td>102</td>\n",
              "      <td>904</td>\n",
              "      <td>rplc</td>\n",
              "      <td>104</td>\n",
              "      <td>2020-04-01</td>\n",
              "      <td>56000</td>\n",
              "      <td>Ahemdabad</td>\n",
              "      <td>differential</td>\n",
              "      <td>504</td>\n",
              "      <td>1997-01-14</td>\n",
              "      <td>8478</td>\n",
              "    </tr>\n",
              "    <tr>\n",
              "      <th>4</th>\n",
              "      <td>5</td>\n",
              "      <td>2020-04-01</td>\n",
              "      <td>39000</td>\n",
              "      <td>2</td>\n",
              "      <td>105</td>\n",
              "      <td>905</td>\n",
              "      <td>rpr</td>\n",
              "      <td>105</td>\n",
              "      <td>2020-04-01</td>\n",
              "      <td>39000</td>\n",
              "      <td>Bangalore</td>\n",
              "      <td>rear suspension</td>\n",
              "      <td>505</td>\n",
              "      <td>1996-08-19</td>\n",
              "      <td>8626</td>\n",
              "    </tr>\n",
              "    <tr>\n",
              "      <th>...</th>\n",
              "      <td>...</td>\n",
              "      <td>...</td>\n",
              "      <td>...</td>\n",
              "      <td>...</td>\n",
              "      <td>...</td>\n",
              "      <td>...</td>\n",
              "      <td>...</td>\n",
              "      <td>...</td>\n",
              "      <td>...</td>\n",
              "      <td>...</td>\n",
              "      <td>...</td>\n",
              "      <td>...</td>\n",
              "      <td>...</td>\n",
              "      <td>...</td>\n",
              "      <td>...</td>\n",
              "    </tr>\n",
              "    <tr>\n",
              "      <th>20090</th>\n",
              "      <td>20091</td>\n",
              "      <td>2021-01-24</td>\n",
              "      <td>53000</td>\n",
              "      <td>1274</td>\n",
              "      <td>43974</td>\n",
              "      <td>906</td>\n",
              "      <td>rplc</td>\n",
              "      <td>20091</td>\n",
              "      <td>2021-01-24</td>\n",
              "      <td>53000</td>\n",
              "      <td>Cuttack</td>\n",
              "      <td>radiator</td>\n",
              "      <td>506</td>\n",
              "      <td>1997-03-24</td>\n",
              "      <td>8707</td>\n",
              "    </tr>\n",
              "    <tr>\n",
              "      <th>20091</th>\n",
              "      <td>20092</td>\n",
              "      <td>2021-01-24</td>\n",
              "      <td>36000</td>\n",
              "      <td>1275</td>\n",
              "      <td>43975</td>\n",
              "      <td>907</td>\n",
              "      <td>rplc</td>\n",
              "      <td>20092</td>\n",
              "      <td>2021-01-24</td>\n",
              "      <td>36000</td>\n",
              "      <td>Mumbai</td>\n",
              "      <td>clutch kits</td>\n",
              "      <td>503</td>\n",
              "      <td>1997-05-12</td>\n",
              "      <td>8658</td>\n",
              "    </tr>\n",
              "    <tr>\n",
              "      <th>20092</th>\n",
              "      <td>20093</td>\n",
              "      <td>2021-01-24</td>\n",
              "      <td>46000</td>\n",
              "      <td>1276</td>\n",
              "      <td>43976</td>\n",
              "      <td>905</td>\n",
              "      <td>rplc</td>\n",
              "      <td>20093</td>\n",
              "      <td>2021-01-24</td>\n",
              "      <td>46000</td>\n",
              "      <td>Panji</td>\n",
              "      <td>rear suspension</td>\n",
              "      <td>505</td>\n",
              "      <td>1996-08-19</td>\n",
              "      <td>8924</td>\n",
              "    </tr>\n",
              "    <tr>\n",
              "      <th>20093</th>\n",
              "      <td>20094</td>\n",
              "      <td>2021-01-24</td>\n",
              "      <td>56000</td>\n",
              "      <td>1277</td>\n",
              "      <td>43977</td>\n",
              "      <td>904</td>\n",
              "      <td>rplc</td>\n",
              "      <td>20094</td>\n",
              "      <td>2021-01-24</td>\n",
              "      <td>56000</td>\n",
              "      <td>Naoida</td>\n",
              "      <td>differential</td>\n",
              "      <td>504</td>\n",
              "      <td>1997-01-14</td>\n",
              "      <td>8776</td>\n",
              "    </tr>\n",
              "    <tr>\n",
              "      <th>20094</th>\n",
              "      <td>20095</td>\n",
              "      <td>2021-01-24</td>\n",
              "      <td>33000</td>\n",
              "      <td>1278</td>\n",
              "      <td>43978</td>\n",
              "      <td>902</td>\n",
              "      <td>rpr</td>\n",
              "      <td>20095</td>\n",
              "      <td>2021-01-24</td>\n",
              "      <td>33000</td>\n",
              "      <td>Bangalore</td>\n",
              "      <td>axle</td>\n",
              "      <td>502</td>\n",
              "      <td>1997-03-03</td>\n",
              "      <td>8728</td>\n",
              "    </tr>\n",
              "  </tbody>\n",
              "</table>\n",
              "<p>20095 rows × 15 columns</p>\n",
              "</div>"
            ],
            "text/plain": [
              "       claim_id claim_date  claim_amount  ...  Manufacturer_ID  Manf_Date   Age\n",
              "0             1 2020-04-01         36000  ...              501 1996-08-12  8633\n",
              "1             2 2020-04-01         42000  ...              502 1997-03-03  8430\n",
              "2             3 2020-04-01         45000  ...              503 1997-06-13  8328\n",
              "3             4 2020-04-01         56000  ...              504 1997-01-14  8478\n",
              "4             5 2020-04-01         39000  ...              505 1996-08-19  8626\n",
              "...         ...        ...           ...  ...              ...        ...   ...\n",
              "20090     20091 2021-01-24         53000  ...              506 1997-03-24  8707\n",
              "20091     20092 2021-01-24         36000  ...              503 1997-05-12  8658\n",
              "20092     20093 2021-01-24         46000  ...              505 1996-08-19  8924\n",
              "20093     20094 2021-01-24         56000  ...              504 1997-01-14  8776\n",
              "20094     20095 2021-01-24         33000  ...              502 1997-03-03  8728\n",
              "\n",
              "[20095 rows x 15 columns]"
            ]
          },
          "metadata": {
            "tags": []
          },
          "execution_count": 33
        }
      ]
    },
    {
      "cell_type": "code",
      "metadata": {
        "colab": {
          "base_uri": "https://localhost:8080/",
          "height": 609
        },
        "id": "FYc6IUxnnzgh",
        "outputId": "88b315e5-4fcc-4228-a3fa-12d2be1b484c"
      },
      "source": [
        "mergedforAge = pd.get_dummies(mergedforAge,columns = [\"Vendor_Location\",\"Repair_or_Replace\"],drop_first = True)\n",
        "mergedforAge"
      ],
      "execution_count": null,
      "outputs": [
        {
          "output_type": "execute_result",
          "data": {
            "text/html": [
              "<div>\n",
              "<style scoped>\n",
              "    .dataframe tbody tr th:only-of-type {\n",
              "        vertical-align: middle;\n",
              "    }\n",
              "\n",
              "    .dataframe tbody tr th {\n",
              "        vertical-align: top;\n",
              "    }\n",
              "\n",
              "    .dataframe thead th {\n",
              "        text-align: right;\n",
              "    }\n",
              "</style>\n",
              "<table border=\"1\" class=\"dataframe\">\n",
              "  <thead>\n",
              "    <tr style=\"text-align: right;\">\n",
              "      <th></th>\n",
              "      <th>claim_id</th>\n",
              "      <th>claim_date</th>\n",
              "      <th>claim_amount</th>\n",
              "      <th>Dealer_ID</th>\n",
              "      <th>Cust_ID</th>\n",
              "      <th>Part_ID</th>\n",
              "      <th>transaction_id</th>\n",
              "      <th>transaction_date</th>\n",
              "      <th>transaction_amount</th>\n",
              "      <th>Part_Name</th>\n",
              "      <th>Manufacturer_ID</th>\n",
              "      <th>Manf_Date</th>\n",
              "      <th>Age</th>\n",
              "      <th>Vendor_Location_Bangalore</th>\n",
              "      <th>Vendor_Location_Cuttack</th>\n",
              "      <th>Vendor_Location_Mumbai</th>\n",
              "      <th>Vendor_Location_Naoida</th>\n",
              "      <th>Vendor_Location_Panji</th>\n",
              "      <th>Repair_or_Replace_rpr</th>\n",
              "    </tr>\n",
              "  </thead>\n",
              "  <tbody>\n",
              "    <tr>\n",
              "      <th>0</th>\n",
              "      <td>1</td>\n",
              "      <td>2020-04-01</td>\n",
              "      <td>36000</td>\n",
              "      <td>5</td>\n",
              "      <td>104</td>\n",
              "      <td>901</td>\n",
              "      <td>101</td>\n",
              "      <td>2020-04-01</td>\n",
              "      <td>36000</td>\n",
              "      <td>brake pad</td>\n",
              "      <td>501</td>\n",
              "      <td>1996-08-12</td>\n",
              "      <td>8633</td>\n",
              "      <td>0</td>\n",
              "      <td>0</td>\n",
              "      <td>1</td>\n",
              "      <td>0</td>\n",
              "      <td>0</td>\n",
              "      <td>1</td>\n",
              "    </tr>\n",
              "    <tr>\n",
              "      <th>1</th>\n",
              "      <td>2</td>\n",
              "      <td>2020-04-01</td>\n",
              "      <td>42000</td>\n",
              "      <td>6</td>\n",
              "      <td>106</td>\n",
              "      <td>902</td>\n",
              "      <td>102</td>\n",
              "      <td>2020-04-01</td>\n",
              "      <td>42000</td>\n",
              "      <td>axle</td>\n",
              "      <td>502</td>\n",
              "      <td>1997-03-03</td>\n",
              "      <td>8430</td>\n",
              "      <td>0</td>\n",
              "      <td>0</td>\n",
              "      <td>0</td>\n",
              "      <td>0</td>\n",
              "      <td>1</td>\n",
              "      <td>0</td>\n",
              "    </tr>\n",
              "    <tr>\n",
              "      <th>2</th>\n",
              "      <td>3</td>\n",
              "      <td>2020-04-01</td>\n",
              "      <td>45000</td>\n",
              "      <td>4</td>\n",
              "      <td>103</td>\n",
              "      <td>903</td>\n",
              "      <td>103</td>\n",
              "      <td>2020-04-01</td>\n",
              "      <td>45000</td>\n",
              "      <td>tie rod</td>\n",
              "      <td>503</td>\n",
              "      <td>1997-06-13</td>\n",
              "      <td>8328</td>\n",
              "      <td>0</td>\n",
              "      <td>1</td>\n",
              "      <td>0</td>\n",
              "      <td>0</td>\n",
              "      <td>0</td>\n",
              "      <td>1</td>\n",
              "    </tr>\n",
              "    <tr>\n",
              "      <th>3</th>\n",
              "      <td>4</td>\n",
              "      <td>2020-04-01</td>\n",
              "      <td>56000</td>\n",
              "      <td>3</td>\n",
              "      <td>102</td>\n",
              "      <td>904</td>\n",
              "      <td>104</td>\n",
              "      <td>2020-04-01</td>\n",
              "      <td>56000</td>\n",
              "      <td>differential</td>\n",
              "      <td>504</td>\n",
              "      <td>1997-01-14</td>\n",
              "      <td>8478</td>\n",
              "      <td>0</td>\n",
              "      <td>0</td>\n",
              "      <td>0</td>\n",
              "      <td>0</td>\n",
              "      <td>0</td>\n",
              "      <td>0</td>\n",
              "    </tr>\n",
              "    <tr>\n",
              "      <th>4</th>\n",
              "      <td>5</td>\n",
              "      <td>2020-04-01</td>\n",
              "      <td>39000</td>\n",
              "      <td>2</td>\n",
              "      <td>105</td>\n",
              "      <td>905</td>\n",
              "      <td>105</td>\n",
              "      <td>2020-04-01</td>\n",
              "      <td>39000</td>\n",
              "      <td>rear suspension</td>\n",
              "      <td>505</td>\n",
              "      <td>1996-08-19</td>\n",
              "      <td>8626</td>\n",
              "      <td>1</td>\n",
              "      <td>0</td>\n",
              "      <td>0</td>\n",
              "      <td>0</td>\n",
              "      <td>0</td>\n",
              "      <td>1</td>\n",
              "    </tr>\n",
              "    <tr>\n",
              "      <th>...</th>\n",
              "      <td>...</td>\n",
              "      <td>...</td>\n",
              "      <td>...</td>\n",
              "      <td>...</td>\n",
              "      <td>...</td>\n",
              "      <td>...</td>\n",
              "      <td>...</td>\n",
              "      <td>...</td>\n",
              "      <td>...</td>\n",
              "      <td>...</td>\n",
              "      <td>...</td>\n",
              "      <td>...</td>\n",
              "      <td>...</td>\n",
              "      <td>...</td>\n",
              "      <td>...</td>\n",
              "      <td>...</td>\n",
              "      <td>...</td>\n",
              "      <td>...</td>\n",
              "      <td>...</td>\n",
              "    </tr>\n",
              "    <tr>\n",
              "      <th>20090</th>\n",
              "      <td>20091</td>\n",
              "      <td>2021-01-24</td>\n",
              "      <td>53000</td>\n",
              "      <td>1274</td>\n",
              "      <td>43974</td>\n",
              "      <td>906</td>\n",
              "      <td>20091</td>\n",
              "      <td>2021-01-24</td>\n",
              "      <td>53000</td>\n",
              "      <td>radiator</td>\n",
              "      <td>506</td>\n",
              "      <td>1997-03-24</td>\n",
              "      <td>8707</td>\n",
              "      <td>0</td>\n",
              "      <td>1</td>\n",
              "      <td>0</td>\n",
              "      <td>0</td>\n",
              "      <td>0</td>\n",
              "      <td>0</td>\n",
              "    </tr>\n",
              "    <tr>\n",
              "      <th>20091</th>\n",
              "      <td>20092</td>\n",
              "      <td>2021-01-24</td>\n",
              "      <td>36000</td>\n",
              "      <td>1275</td>\n",
              "      <td>43975</td>\n",
              "      <td>907</td>\n",
              "      <td>20092</td>\n",
              "      <td>2021-01-24</td>\n",
              "      <td>36000</td>\n",
              "      <td>clutch kits</td>\n",
              "      <td>503</td>\n",
              "      <td>1997-05-12</td>\n",
              "      <td>8658</td>\n",
              "      <td>0</td>\n",
              "      <td>0</td>\n",
              "      <td>1</td>\n",
              "      <td>0</td>\n",
              "      <td>0</td>\n",
              "      <td>0</td>\n",
              "    </tr>\n",
              "    <tr>\n",
              "      <th>20092</th>\n",
              "      <td>20093</td>\n",
              "      <td>2021-01-24</td>\n",
              "      <td>46000</td>\n",
              "      <td>1276</td>\n",
              "      <td>43976</td>\n",
              "      <td>905</td>\n",
              "      <td>20093</td>\n",
              "      <td>2021-01-24</td>\n",
              "      <td>46000</td>\n",
              "      <td>rear suspension</td>\n",
              "      <td>505</td>\n",
              "      <td>1996-08-19</td>\n",
              "      <td>8924</td>\n",
              "      <td>0</td>\n",
              "      <td>0</td>\n",
              "      <td>0</td>\n",
              "      <td>0</td>\n",
              "      <td>1</td>\n",
              "      <td>0</td>\n",
              "    </tr>\n",
              "    <tr>\n",
              "      <th>20093</th>\n",
              "      <td>20094</td>\n",
              "      <td>2021-01-24</td>\n",
              "      <td>56000</td>\n",
              "      <td>1277</td>\n",
              "      <td>43977</td>\n",
              "      <td>904</td>\n",
              "      <td>20094</td>\n",
              "      <td>2021-01-24</td>\n",
              "      <td>56000</td>\n",
              "      <td>differential</td>\n",
              "      <td>504</td>\n",
              "      <td>1997-01-14</td>\n",
              "      <td>8776</td>\n",
              "      <td>0</td>\n",
              "      <td>0</td>\n",
              "      <td>0</td>\n",
              "      <td>1</td>\n",
              "      <td>0</td>\n",
              "      <td>0</td>\n",
              "    </tr>\n",
              "    <tr>\n",
              "      <th>20094</th>\n",
              "      <td>20095</td>\n",
              "      <td>2021-01-24</td>\n",
              "      <td>33000</td>\n",
              "      <td>1278</td>\n",
              "      <td>43978</td>\n",
              "      <td>902</td>\n",
              "      <td>20095</td>\n",
              "      <td>2021-01-24</td>\n",
              "      <td>33000</td>\n",
              "      <td>axle</td>\n",
              "      <td>502</td>\n",
              "      <td>1997-03-03</td>\n",
              "      <td>8728</td>\n",
              "      <td>1</td>\n",
              "      <td>0</td>\n",
              "      <td>0</td>\n",
              "      <td>0</td>\n",
              "      <td>0</td>\n",
              "      <td>1</td>\n",
              "    </tr>\n",
              "  </tbody>\n",
              "</table>\n",
              "<p>20095 rows × 19 columns</p>\n",
              "</div>"
            ],
            "text/plain": [
              "       claim_id claim_date  ...  Vendor_Location_Panji  Repair_or_Replace_rpr\n",
              "0             1 2020-04-01  ...                      0                      1\n",
              "1             2 2020-04-01  ...                      1                      0\n",
              "2             3 2020-04-01  ...                      0                      1\n",
              "3             4 2020-04-01  ...                      0                      0\n",
              "4             5 2020-04-01  ...                      0                      1\n",
              "...         ...        ...  ...                    ...                    ...\n",
              "20090     20091 2021-01-24  ...                      0                      0\n",
              "20091     20092 2021-01-24  ...                      0                      0\n",
              "20092     20093 2021-01-24  ...                      1                      0\n",
              "20093     20094 2021-01-24  ...                      0                      0\n",
              "20094     20095 2021-01-24  ...                      0                      1\n",
              "\n",
              "[20095 rows x 19 columns]"
            ]
          },
          "metadata": {
            "tags": []
          },
          "execution_count": 34
        }
      ]
    },
    {
      "cell_type": "code",
      "metadata": {
        "colab": {
          "base_uri": "https://localhost:8080/"
        },
        "id": "ijP9vn-t38Os",
        "outputId": "10bac5fe-afb8-4d00-c9c4-f938c7141b2a"
      },
      "source": [
        "mergedforAge.columns"
      ],
      "execution_count": null,
      "outputs": [
        {
          "output_type": "execute_result",
          "data": {
            "text/plain": [
              "Index(['claim_id', 'claim_date', 'claim_amount', 'Dealer_ID', 'Cust_ID',\n",
              "       'Part_ID', 'transaction_id', 'transaction_date', 'transaction_amount',\n",
              "       'Part_Name', 'Manufacturer_ID', 'Manf_Date', 'Age',\n",
              "       'Vendor_Location_Bangalore', 'Vendor_Location_Cuttack',\n",
              "       'Vendor_Location_Mumbai', 'Vendor_Location_Naoida',\n",
              "       'Vendor_Location_Panji', 'Repair_or_Replace_rpr'],\n",
              "      dtype='object')"
            ]
          },
          "metadata": {
            "tags": []
          },
          "execution_count": 35
        }
      ]
    },
    {
      "cell_type": "code",
      "metadata": {
        "colab": {
          "base_uri": "https://localhost:8080/"
        },
        "id": "n0H5IOZ7jUYZ",
        "outputId": "b4579345-413d-45b6-88b6-f238ce6f8e05"
      },
      "source": [
        "mergedforAge.info()"
      ],
      "execution_count": null,
      "outputs": [
        {
          "output_type": "stream",
          "text": [
            "<class 'pandas.core.frame.DataFrame'>\n",
            "Int64Index: 20095 entries, 0 to 20094\n",
            "Data columns (total 19 columns):\n",
            " #   Column                     Non-Null Count  Dtype         \n",
            "---  ------                     --------------  -----         \n",
            " 0   claim_id                   20095 non-null  int64         \n",
            " 1   claim_date                 20095 non-null  datetime64[ns]\n",
            " 2   claim_amount               20095 non-null  int64         \n",
            " 3   Dealer_ID                  20095 non-null  int64         \n",
            " 4   Cust_ID                    20095 non-null  int64         \n",
            " 5   Part_ID                    20095 non-null  int64         \n",
            " 6   transaction_id             20095 non-null  int64         \n",
            " 7   transaction_date           20095 non-null  datetime64[ns]\n",
            " 8   transaction_amount         20095 non-null  int64         \n",
            " 9   Part_Name                  20095 non-null  object        \n",
            " 10  Manufacturer_ID            20095 non-null  int64         \n",
            " 11  Manf_Date                  20095 non-null  datetime64[ns]\n",
            " 12  Age                        20095 non-null  int64         \n",
            " 13  Vendor_Location_Bangalore  20095 non-null  uint8         \n",
            " 14  Vendor_Location_Cuttack    20095 non-null  uint8         \n",
            " 15  Vendor_Location_Mumbai     20095 non-null  uint8         \n",
            " 16  Vendor_Location_Naoida     20095 non-null  uint8         \n",
            " 17  Vendor_Location_Panji      20095 non-null  uint8         \n",
            " 18  Repair_or_Replace_rpr      20095 non-null  uint8         \n",
            "dtypes: datetime64[ns](3), int64(9), object(1), uint8(6)\n",
            "memory usage: 2.9+ MB\n"
          ],
          "name": "stdout"
        }
      ]
    },
    {
      "cell_type": "markdown",
      "metadata": {
        "id": "EYu7Yx9aGT3t"
      },
      "source": [
        "# **Predicting Part Failure**"
      ]
    },
    {
      "cell_type": "code",
      "metadata": {
        "id": "AaqZzpiM0MpT"
      },
      "source": [
        "x=mergedforAge[['Part_ID','Age','Vendor_Location_Bangalore','Vendor_Location_Cuttack','Vendor_Location_Mumbai','Vendor_Location_Naoida','Vendor_Location_Panji']]\n",
        "y=mergedforAge['Repair_or_Replace_rpr']"
      ],
      "execution_count": null,
      "outputs": []
    },
    {
      "cell_type": "code",
      "metadata": {
        "id": "xuQj57mr5O2M"
      },
      "source": [
        "from sklearn.model_selection import cross_val_score"
      ],
      "execution_count": null,
      "outputs": []
    },
    {
      "cell_type": "code",
      "metadata": {
        "colab": {
          "base_uri": "https://localhost:8080/"
        },
        "id": "eU6EzwEo62aJ",
        "outputId": "faff92ea-a9cd-45f7-9411-e7772bc2f62c"
      },
      "source": [
        "from sklearn.tree import DecisionTreeClassifier\n",
        "classifier = DecisionTreeClassifier()\n",
        "cross_val_score(classifier,x,y,cv=10,scoring='accuracy').mean()"
      ],
      "execution_count": null,
      "outputs": [
        {
          "output_type": "execute_result",
          "data": {
            "text/plain": [
              "0.7639220274931959"
            ]
          },
          "metadata": {
            "tags": []
          },
          "execution_count": 39
        }
      ]
    },
    {
      "cell_type": "code",
      "metadata": {
        "colab": {
          "base_uri": "https://localhost:8080/"
        },
        "id": "KnzzBcsh7Ekd",
        "outputId": "96a1c32e-71f1-4544-f56e-fa3746480c37"
      },
      "source": [
        "from sklearn.neighbors import KNeighborsClassifier\n",
        "knn = KNeighborsClassifier(n_neighbors=4)\n",
        "cross_val_score(knn,x,y,cv=10,scoring='accuracy').mean()"
      ],
      "execution_count": null,
      "outputs": [
        {
          "output_type": "execute_result",
          "data": {
            "text/plain": [
              "0.7359561822544818"
            ]
          },
          "metadata": {
            "tags": []
          },
          "execution_count": 40
        }
      ]
    },
    {
      "cell_type": "markdown",
      "metadata": {
        "id": "qC4q7ETLzDgw"
      },
      "source": [
        "here we see best accuracy by DecisionTreeCLassifier ,so we are using decision tree classifier for further process"
      ]
    },
    {
      "cell_type": "markdown",
      "metadata": {
        "id": "SPkyJfnoI_2S"
      },
      "source": [
        "# **To determine whether the defective part is to be replaced or repaired**"
      ]
    },
    {
      "cell_type": "code",
      "metadata": {
        "colab": {
          "base_uri": "https://localhost:8080/",
          "height": 592
        },
        "id": "lDejci7sQXaa",
        "outputId": "9b383893-9e7d-4c4e-9f28-9c1b7cf70a7c"
      },
      "source": [
        "df_claims['Repair_or_Replace'].value_counts(sort=False).plot.pie(autopct='%1.2f%%',figsize=(40,10));\n",
        "plt.legend()"
      ],
      "execution_count": null,
      "outputs": [
        {
          "output_type": "execute_result",
          "data": {
            "text/plain": [
              "<matplotlib.legend.Legend at 0x7fcc16d13b10>"
            ]
          },
          "metadata": {
            "tags": []
          },
          "execution_count": 109
        },
        {
          "output_type": "display_data",
          "data": {
            "image/png": "[encoded data removed]",
            "text/plain": [
              "<Figure size 2880x720 with 1 Axes>"
            ]
          },
          "metadata": {
            "tags": []
          }
        }
      ]
    },
    {
      "cell_type": "code",
      "metadata": {
        "colab": {
          "base_uri": "https://localhost:8080/"
        },
        "id": "7Y9EEmairMB_",
        "outputId": "9762fc8a-4ca3-4459-b5a6-9e3711386a28"
      },
      "source": [
        "df_claims['Repair_or_Replace'].value_counts().head()"
      ],
      "execution_count": null,
      "outputs": [
        {
          "output_type": "execute_result",
          "data": {
            "text/plain": [
              "rplc    14736\n",
              "rpr      5359\n",
              "Name: Repair_or_Replace, dtype: int64"
            ]
          },
          "metadata": {
            "tags": []
          },
          "execution_count": 41
        }
      ]
    },
    {
      "cell_type": "code",
      "metadata": {
        "colab": {
          "base_uri": "https://localhost:8080/",
          "height": 297
        },
        "id": "BlfqDRl4wZ33",
        "outputId": "abd57cfa-ffee-4d6c-c398-49444f54ea95"
      },
      "source": [
        "sns.barplot(x='Repair_or_Replace',y='claim_amount',data=df_claims,estimator=np.max)"
      ],
      "execution_count": null,
      "outputs": [
        {
          "output_type": "execute_result",
          "data": {
            "text/plain": [
              "<matplotlib.axes._subplots.AxesSubplot at 0x7fcc1b4f7dd0>"
            ]
          },
          "metadata": {
            "tags": []
          },
          "execution_count": 42
        },
        {
          "output_type": "display_data",
          "data": {
            "image/png": "[encoded data removed]",
            "text/plain": [
              "<Figure size 432x288 with 1 Axes>"
            ]
          },
          "metadata": {
            "tags": [],
            "needs_background": "light"
          }
        }
      ]
    },
    {
      "cell_type": "code",
      "metadata": {
        "colab": {
          "base_uri": "https://localhost:8080/",
          "height": 297
        },
        "id": "jalVuCywxRKg",
        "outputId": "693217e3-bf12-414c-db43-8e0ca55fe40e"
      },
      "source": [
        "sns.countplot(x='Repair_or_Replace',data=df_claims)"
      ],
      "execution_count": null,
      "outputs": [
        {
          "output_type": "execute_result",
          "data": {
            "text/plain": [
              "<matplotlib.axes._subplots.AxesSubplot at 0x7fcc1aac7310>"
            ]
          },
          "metadata": {
            "tags": []
          },
          "execution_count": 43
        },
        {
          "output_type": "display_data",
          "data": {
            "image/png": "[encoded data removed]",
            "text/plain": [
              "<Figure size 432x288 with 1 Axes>"
            ]
          },
          "metadata": {
            "tags": [],
            "needs_background": "light"
          }
        }
      ]
    },
    {
      "cell_type": "code",
      "metadata": {
        "id": "a2QOvvacB8Im"
      },
      "source": [
        "x1 = mergedforAge[['Part_ID','Age','Vendor_Location_Bangalore','Vendor_Location_Cuttack','Vendor_Location_Mumbai','Vendor_Location_Naoida','Vendor_Location_Panji','transaction_amount']]\n",
        "y1 = mergedforAge['Repair_or_Replace_rpr']                               "
      ],
      "execution_count": null,
      "outputs": []
    },
    {
      "cell_type": "code",
      "metadata": {
        "colab": {
          "base_uri": "https://localhost:8080/"
        },
        "id": "5bLYRMcYFcs5",
        "outputId": "f66b0d31-af3e-4346-ac82-3bf0cf8892fc"
      },
      "source": [
        "from sklearn.tree import DecisionTreeClassifier\n",
        "classifier = DecisionTreeClassifier()\n",
        "cross_val_score(classifier,x1,y1,cv=10,scoring='accuracy').mean()*100"
      ],
      "execution_count": null,
      "outputs": [
        {
          "output_type": "execute_result",
          "data": {
            "text/plain": [
              "98.4129353233831"
            ]
          },
          "metadata": {
            "tags": []
          },
          "execution_count": 45
        }
      ]
    },
    {
      "cell_type": "code",
      "metadata": {
        "colab": {
          "base_uri": "https://localhost:8080/"
        },
        "id": "xc-WsHKaHlns",
        "outputId": "c48f10fa-5544-460b-c889-a8d0c641ac1e"
      },
      "source": [
        "from sklearn.ensemble import RandomForestClassifier\n",
        "rfc = RandomForestClassifier(n_estimators = 100)\n",
        "cross_val_score(rfc,x1,y1,cv=10,scoring='accuracy').mean()*100"
      ],
      "execution_count": null,
      "outputs": [
        {
          "output_type": "execute_result",
          "data": {
            "text/plain": [
              "98.62686567164178"
            ]
          },
          "metadata": {
            "tags": []
          },
          "execution_count": 46
        }
      ]
    },
    {
      "cell_type": "markdown",
      "metadata": {
        "id": "1fNTAIRWJKf4"
      },
      "source": [
        "# **Processing of variety of data:**"
      ]
    },
    {
      "cell_type": "code",
      "metadata": {
        "colab": {
          "base_uri": "https://localhost:8080/",
          "height": 419
        },
        "id": "uj-rMMbtHU2Z",
        "outputId": "4514aedc-4f4b-4a4c-ed46-edc7c7da28f3"
      },
      "source": [
        "df_claims"
      ],
      "execution_count": null,
      "outputs": [
        {
          "output_type": "execute_result",
          "data": {
            "text/html": [
              "<div>\n",
              "<style scoped>\n",
              "    .dataframe tbody tr th:only-of-type {\n",
              "        vertical-align: middle;\n",
              "    }\n",
              "\n",
              "    .dataframe tbody tr th {\n",
              "        vertical-align: top;\n",
              "    }\n",
              "\n",
              "    .dataframe thead th {\n",
              "        text-align: right;\n",
              "    }\n",
              "</style>\n",
              "<table border=\"1\" class=\"dataframe\">\n",
              "  <thead>\n",
              "    <tr style=\"text-align: right;\">\n",
              "      <th></th>\n",
              "      <th>claim_id</th>\n",
              "      <th>claim_date</th>\n",
              "      <th>claim_amount</th>\n",
              "      <th>Dealer_ID</th>\n",
              "      <th>Cust_ID</th>\n",
              "      <th>Part_ID</th>\n",
              "      <th>Repair_or_Replace</th>\n",
              "    </tr>\n",
              "  </thead>\n",
              "  <tbody>\n",
              "    <tr>\n",
              "      <th>0</th>\n",
              "      <td>1</td>\n",
              "      <td>2020-04-01</td>\n",
              "      <td>36000</td>\n",
              "      <td>5</td>\n",
              "      <td>104</td>\n",
              "      <td>901</td>\n",
              "      <td>rpr</td>\n",
              "    </tr>\n",
              "    <tr>\n",
              "      <th>1</th>\n",
              "      <td>2</td>\n",
              "      <td>2020-04-01</td>\n",
              "      <td>42000</td>\n",
              "      <td>6</td>\n",
              "      <td>106</td>\n",
              "      <td>902</td>\n",
              "      <td>rplc</td>\n",
              "    </tr>\n",
              "    <tr>\n",
              "      <th>2</th>\n",
              "      <td>3</td>\n",
              "      <td>2020-04-01</td>\n",
              "      <td>45000</td>\n",
              "      <td>4</td>\n",
              "      <td>103</td>\n",
              "      <td>903</td>\n",
              "      <td>rpr</td>\n",
              "    </tr>\n",
              "    <tr>\n",
              "      <th>3</th>\n",
              "      <td>4</td>\n",
              "      <td>2020-04-01</td>\n",
              "      <td>56000</td>\n",
              "      <td>3</td>\n",
              "      <td>102</td>\n",
              "      <td>904</td>\n",
              "      <td>rplc</td>\n",
              "    </tr>\n",
              "    <tr>\n",
              "      <th>4</th>\n",
              "      <td>5</td>\n",
              "      <td>2020-04-01</td>\n",
              "      <td>39000</td>\n",
              "      <td>2</td>\n",
              "      <td>105</td>\n",
              "      <td>905</td>\n",
              "      <td>rpr</td>\n",
              "    </tr>\n",
              "    <tr>\n",
              "      <th>...</th>\n",
              "      <td>...</td>\n",
              "      <td>...</td>\n",
              "      <td>...</td>\n",
              "      <td>...</td>\n",
              "      <td>...</td>\n",
              "      <td>...</td>\n",
              "      <td>...</td>\n",
              "    </tr>\n",
              "    <tr>\n",
              "      <th>20090</th>\n",
              "      <td>20091</td>\n",
              "      <td>2021-01-24</td>\n",
              "      <td>53000</td>\n",
              "      <td>1274</td>\n",
              "      <td>43974</td>\n",
              "      <td>906</td>\n",
              "      <td>rplc</td>\n",
              "    </tr>\n",
              "    <tr>\n",
              "      <th>20091</th>\n",
              "      <td>20092</td>\n",
              "      <td>2021-01-24</td>\n",
              "      <td>36000</td>\n",
              "      <td>1275</td>\n",
              "      <td>43975</td>\n",
              "      <td>907</td>\n",
              "      <td>rplc</td>\n",
              "    </tr>\n",
              "    <tr>\n",
              "      <th>20092</th>\n",
              "      <td>20093</td>\n",
              "      <td>2021-01-24</td>\n",
              "      <td>46000</td>\n",
              "      <td>1276</td>\n",
              "      <td>43976</td>\n",
              "      <td>905</td>\n",
              "      <td>rplc</td>\n",
              "    </tr>\n",
              "    <tr>\n",
              "      <th>20093</th>\n",
              "      <td>20094</td>\n",
              "      <td>2021-01-24</td>\n",
              "      <td>56000</td>\n",
              "      <td>1277</td>\n",
              "      <td>43977</td>\n",
              "      <td>904</td>\n",
              "      <td>rplc</td>\n",
              "    </tr>\n",
              "    <tr>\n",
              "      <th>20094</th>\n",
              "      <td>20095</td>\n",
              "      <td>2021-01-24</td>\n",
              "      <td>33000</td>\n",
              "      <td>1278</td>\n",
              "      <td>43978</td>\n",
              "      <td>902</td>\n",
              "      <td>rpr</td>\n",
              "    </tr>\n",
              "  </tbody>\n",
              "</table>\n",
              "<p>20095 rows × 7 columns</p>\n",
              "</div>"
            ],
            "text/plain": [
              "       claim_id claim_date  claim_amount  ...  Cust_ID  Part_ID  Repair_or_Replace\n",
              "0             1 2020-04-01         36000  ...      104      901                rpr\n",
              "1             2 2020-04-01         42000  ...      106      902               rplc\n",
              "2             3 2020-04-01         45000  ...      103      903                rpr\n",
              "3             4 2020-04-01         56000  ...      102      904               rplc\n",
              "4             5 2020-04-01         39000  ...      105      905                rpr\n",
              "...         ...        ...           ...  ...      ...      ...                ...\n",
              "20090     20091 2021-01-24         53000  ...    43974      906               rplc\n",
              "20091     20092 2021-01-24         36000  ...    43975      907               rplc\n",
              "20092     20093 2021-01-24         46000  ...    43976      905               rplc\n",
              "20093     20094 2021-01-24         56000  ...    43977      904               rplc\n",
              "20094     20095 2021-01-24         33000  ...    43978      902                rpr\n",
              "\n",
              "[20095 rows x 7 columns]"
            ]
          },
          "metadata": {
            "tags": []
          },
          "execution_count": 47
        }
      ]
    },
    {
      "cell_type": "code",
      "metadata": {
        "colab": {
          "base_uri": "https://localhost:8080/",
          "height": 204
        },
        "id": "V258FplrhNoZ",
        "outputId": "a861ebfa-eed3-4bd5-ee97-a9a0f5f16deb"
      },
      "source": [
        "all = pd.merge(df_claims,df_dealers, on =\"Dealer_ID\",how ='left' )\n",
        "all.head()"
      ],
      "execution_count": null,
      "outputs": [
        {
          "output_type": "execute_result",
          "data": {
            "text/html": [
              "<div>\n",
              "<style scoped>\n",
              "    .dataframe tbody tr th:only-of-type {\n",
              "        vertical-align: middle;\n",
              "    }\n",
              "\n",
              "    .dataframe tbody tr th {\n",
              "        vertical-align: top;\n",
              "    }\n",
              "\n",
              "    .dataframe thead th {\n",
              "        text-align: right;\n",
              "    }\n",
              "</style>\n",
              "<table border=\"1\" class=\"dataframe\">\n",
              "  <thead>\n",
              "    <tr style=\"text-align: right;\">\n",
              "      <th></th>\n",
              "      <th>claim_id</th>\n",
              "      <th>claim_date</th>\n",
              "      <th>claim_amount</th>\n",
              "      <th>Dealer_ID</th>\n",
              "      <th>Cust_ID</th>\n",
              "      <th>Part_ID</th>\n",
              "      <th>Repair_or_Replace</th>\n",
              "      <th>Dealer_Name</th>\n",
              "      <th>Dealer_Country</th>\n",
              "      <th>State</th>\n",
              "      <th>City</th>\n",
              "      <th>ZIpCode</th>\n",
              "    </tr>\n",
              "  </thead>\n",
              "  <tbody>\n",
              "    <tr>\n",
              "      <th>0</th>\n",
              "      <td>1</td>\n",
              "      <td>2020-04-01</td>\n",
              "      <td>36000</td>\n",
              "      <td>5</td>\n",
              "      <td>104</td>\n",
              "      <td>901</td>\n",
              "      <td>rpr</td>\n",
              "      <td>Lynn Knapp</td>\n",
              "      <td>india</td>\n",
              "      <td>Orrisa</td>\n",
              "      <td>Cuttack</td>\n",
              "      <td>400005</td>\n",
              "    </tr>\n",
              "    <tr>\n",
              "      <th>1</th>\n",
              "      <td>2</td>\n",
              "      <td>2020-04-01</td>\n",
              "      <td>42000</td>\n",
              "      <td>6</td>\n",
              "      <td>106</td>\n",
              "      <td>902</td>\n",
              "      <td>rplc</td>\n",
              "      <td>Harold Hamff</td>\n",
              "      <td>india</td>\n",
              "      <td>Maharashtra</td>\n",
              "      <td>Mumbai</td>\n",
              "      <td>400006</td>\n",
              "    </tr>\n",
              "    <tr>\n",
              "      <th>2</th>\n",
              "      <td>3</td>\n",
              "      <td>2020-04-01</td>\n",
              "      <td>45000</td>\n",
              "      <td>4</td>\n",
              "      <td>103</td>\n",
              "      <td>903</td>\n",
              "      <td>rpr</td>\n",
              "      <td>Rachel Oszust</td>\n",
              "      <td>india</td>\n",
              "      <td>Gujrat</td>\n",
              "      <td>Ahemdabad</td>\n",
              "      <td>400004</td>\n",
              "    </tr>\n",
              "    <tr>\n",
              "      <th>3</th>\n",
              "      <td>4</td>\n",
              "      <td>2020-04-01</td>\n",
              "      <td>56000</td>\n",
              "      <td>3</td>\n",
              "      <td>102</td>\n",
              "      <td>904</td>\n",
              "      <td>rplc</td>\n",
              "      <td>Donald Repinski</td>\n",
              "      <td>india</td>\n",
              "      <td>Karnataka</td>\n",
              "      <td>Bangalore</td>\n",
              "      <td>400003</td>\n",
              "    </tr>\n",
              "    <tr>\n",
              "      <th>4</th>\n",
              "      <td>5</td>\n",
              "      <td>2020-04-01</td>\n",
              "      <td>39000</td>\n",
              "      <td>2</td>\n",
              "      <td>105</td>\n",
              "      <td>905</td>\n",
              "      <td>rpr</td>\n",
              "      <td>Owen Mclaughlin</td>\n",
              "      <td>india</td>\n",
              "      <td>Delhi</td>\n",
              "      <td>Naoida</td>\n",
              "      <td>400002</td>\n",
              "    </tr>\n",
              "  </tbody>\n",
              "</table>\n",
              "</div>"
            ],
            "text/plain": [
              "   claim_id claim_date  claim_amount  ...        State       City  ZIpCode\n",
              "0         1 2020-04-01         36000  ...       Orrisa    Cuttack   400005\n",
              "1         2 2020-04-01         42000  ...  Maharashtra     Mumbai   400006\n",
              "2         3 2020-04-01         45000  ...       Gujrat  Ahemdabad   400004\n",
              "3         4 2020-04-01         56000  ...    Karnataka  Bangalore   400003\n",
              "4         5 2020-04-01         39000  ...        Delhi     Naoida   400002\n",
              "\n",
              "[5 rows x 12 columns]"
            ]
          },
          "metadata": {
            "tags": []
          },
          "execution_count": 48
        }
      ]
    },
    {
      "cell_type": "code",
      "metadata": {
        "colab": {
          "base_uri": "https://localhost:8080/",
          "height": 419
        },
        "id": "B-eQHxlXA3zT",
        "outputId": "b8c30e5f-5ede-4802-b244-85054cd45256"
      },
      "source": [
        "all[['claim_amount','State']]"
      ],
      "execution_count": null,
      "outputs": [
        {
          "output_type": "execute_result",
          "data": {
            "text/html": [
              "<div>\n",
              "<style scoped>\n",
              "    .dataframe tbody tr th:only-of-type {\n",
              "        vertical-align: middle;\n",
              "    }\n",
              "\n",
              "    .dataframe tbody tr th {\n",
              "        vertical-align: top;\n",
              "    }\n",
              "\n",
              "    .dataframe thead th {\n",
              "        text-align: right;\n",
              "    }\n",
              "</style>\n",
              "<table border=\"1\" class=\"dataframe\">\n",
              "  <thead>\n",
              "    <tr style=\"text-align: right;\">\n",
              "      <th></th>\n",
              "      <th>claim_amount</th>\n",
              "      <th>State</th>\n",
              "    </tr>\n",
              "  </thead>\n",
              "  <tbody>\n",
              "    <tr>\n",
              "      <th>0</th>\n",
              "      <td>36000</td>\n",
              "      <td>Orrisa</td>\n",
              "    </tr>\n",
              "    <tr>\n",
              "      <th>1</th>\n",
              "      <td>42000</td>\n",
              "      <td>Maharashtra</td>\n",
              "    </tr>\n",
              "    <tr>\n",
              "      <th>2</th>\n",
              "      <td>45000</td>\n",
              "      <td>Gujrat</td>\n",
              "    </tr>\n",
              "    <tr>\n",
              "      <th>3</th>\n",
              "      <td>56000</td>\n",
              "      <td>Karnataka</td>\n",
              "    </tr>\n",
              "    <tr>\n",
              "      <th>4</th>\n",
              "      <td>39000</td>\n",
              "      <td>Delhi</td>\n",
              "    </tr>\n",
              "    <tr>\n",
              "      <th>...</th>\n",
              "      <td>...</td>\n",
              "      <td>...</td>\n",
              "    </tr>\n",
              "    <tr>\n",
              "      <th>20090</th>\n",
              "      <td>53000</td>\n",
              "      <td>Gujrat</td>\n",
              "    </tr>\n",
              "    <tr>\n",
              "      <th>20091</th>\n",
              "      <td>36000</td>\n",
              "      <td>Orrisa</td>\n",
              "    </tr>\n",
              "    <tr>\n",
              "      <th>20092</th>\n",
              "      <td>46000</td>\n",
              "      <td>Maharashtra</td>\n",
              "    </tr>\n",
              "    <tr>\n",
              "      <th>20093</th>\n",
              "      <td>56000</td>\n",
              "      <td>Goa</td>\n",
              "    </tr>\n",
              "    <tr>\n",
              "      <th>20094</th>\n",
              "      <td>33000</td>\n",
              "      <td>Delhi</td>\n",
              "    </tr>\n",
              "  </tbody>\n",
              "</table>\n",
              "<p>20095 rows × 2 columns</p>\n",
              "</div>"
            ],
            "text/plain": [
              "       claim_amount        State\n",
              "0             36000       Orrisa\n",
              "1             42000  Maharashtra\n",
              "2             45000       Gujrat\n",
              "3             56000    Karnataka\n",
              "4             39000        Delhi\n",
              "...             ...          ...\n",
              "20090         53000       Gujrat\n",
              "20091         36000       Orrisa\n",
              "20092         46000  Maharashtra\n",
              "20093         56000          Goa\n",
              "20094         33000        Delhi\n",
              "\n",
              "[20095 rows x 2 columns]"
            ]
          },
          "metadata": {
            "tags": []
          },
          "execution_count": 49
        }
      ]
    },
    {
      "cell_type": "code",
      "metadata": {
        "colab": {
          "base_uri": "https://localhost:8080/",
          "height": 575
        },
        "id": "VenyapiODiQq",
        "outputId": "57469c9c-c2ca-4724-841e-c4465643ea20"
      },
      "source": [
        "all['State'].value_counts(sort=False).plot.pie(autopct='%1.2f%%',figsize=(40,10),explode=[0.01,0.1,0.1,0.1,0.1,0.5]);\n",
        "plt.legend();"
      ],
      "execution_count": null,
      "outputs": [
        {
          "output_type": "display_data",
          "data": {
            "image/png": "[encoded data removed]",
            "text/plain": [
              "<Figure size 2880x720 with 1 Axes>"
            ]
          },
          "metadata": {
            "tags": []
          }
        }
      ]
    },
    {
      "cell_type": "code",
      "metadata": {
        "colab": {
          "base_uri": "https://localhost:8080/",
          "height": 458
        },
        "id": "7oo-bJ0OkojU",
        "outputId": "ca450712-e30a-4e74-ae3d-a8a785405f7f"
      },
      "source": [
        "sns.displot(all['State'],kde =True,height= 6)"
      ],
      "execution_count": null,
      "outputs": [
        {
          "output_type": "execute_result",
          "data": {
            "text/plain": [
              "<seaborn.axisgrid.FacetGrid at 0x7fb078898250>"
            ]
          },
          "metadata": {
            "tags": []
          },
          "execution_count": 78
        },
        {
          "output_type": "display_data",
          "data": {
            "image/png": "[encoded data removed]",
            "text/plain": [
              "<Figure size 432x432 with 1 Axes>"
            ]
          },
          "metadata": {
            "tags": [],
            "needs_background": "light"
          }
        }
      ]
    },
    {
      "cell_type": "code",
      "metadata": {
        "id": "l_URtFA9TZrE"
      },
      "source": [
        "all = pd.get_dummies(all, columns=['Repair_or_Replace','State'],drop_first=True)"
      ],
      "execution_count": null,
      "outputs": []
    },
    {
      "cell_type": "code",
      "metadata": {
        "colab": {
          "base_uri": "https://localhost:8080/",
          "height": 441
        },
        "id": "WsJRpKfFVN1s",
        "outputId": "a2975245-d233-40aa-f4dc-fc7154aebf2e"
      },
      "source": [
        "all.corr()\n"
      ],
      "execution_count": null,
      "outputs": [
        {
          "output_type": "execute_result",
          "data": {
            "text/html": [
              "<div>\n",
              "<style scoped>\n",
              "    .dataframe tbody tr th:only-of-type {\n",
              "        vertical-align: middle;\n",
              "    }\n",
              "\n",
              "    .dataframe tbody tr th {\n",
              "        vertical-align: top;\n",
              "    }\n",
              "\n",
              "    .dataframe thead th {\n",
              "        text-align: right;\n",
              "    }\n",
              "</style>\n",
              "<table border=\"1\" class=\"dataframe\">\n",
              "  <thead>\n",
              "    <tr style=\"text-align: right;\">\n",
              "      <th></th>\n",
              "      <th>claim_id</th>\n",
              "      <th>claim_amount</th>\n",
              "      <th>Dealer_ID</th>\n",
              "      <th>Cust_ID</th>\n",
              "      <th>Part_ID</th>\n",
              "      <th>ZIpCode</th>\n",
              "      <th>Repair_or_Replace_rpr</th>\n",
              "      <th>State_Goa</th>\n",
              "      <th>State_Gujrat</th>\n",
              "      <th>State_Karnataka</th>\n",
              "      <th>State_Maharashtra</th>\n",
              "      <th>State_Orrisa</th>\n",
              "    </tr>\n",
              "  </thead>\n",
              "  <tbody>\n",
              "    <tr>\n",
              "      <th>claim_id</th>\n",
              "      <td>1.000000</td>\n",
              "      <td>0.000214</td>\n",
              "      <td>0.002988</td>\n",
              "      <td>-0.000791</td>\n",
              "      <td>0.000189</td>\n",
              "      <td>0.000158</td>\n",
              "      <td>-0.000169</td>\n",
              "      <td>0.000002</td>\n",
              "      <td>0.000421</td>\n",
              "      <td>-0.000329</td>\n",
              "      <td>0.000145</td>\n",
              "      <td>-0.000085</td>\n",
              "    </tr>\n",
              "    <tr>\n",
              "      <th>claim_amount</th>\n",
              "      <td>0.000214</td>\n",
              "      <td>1.000000</td>\n",
              "      <td>-0.000154</td>\n",
              "      <td>-0.001481</td>\n",
              "      <td>-0.285543</td>\n",
              "      <td>-0.001569</td>\n",
              "      <td>-0.264751</td>\n",
              "      <td>0.000157</td>\n",
              "      <td>0.000091</td>\n",
              "      <td>0.001947</td>\n",
              "      <td>0.000472</td>\n",
              "      <td>-0.003632</td>\n",
              "    </tr>\n",
              "    <tr>\n",
              "      <th>Dealer_ID</th>\n",
              "      <td>0.002988</td>\n",
              "      <td>-0.000154</td>\n",
              "      <td>1.000000</td>\n",
              "      <td>0.007710</td>\n",
              "      <td>-0.002561</td>\n",
              "      <td>0.066264</td>\n",
              "      <td>0.000630</td>\n",
              "      <td>-0.014101</td>\n",
              "      <td>0.114150</td>\n",
              "      <td>-0.092952</td>\n",
              "      <td>0.099579</td>\n",
              "      <td>-0.066521</td>\n",
              "    </tr>\n",
              "    <tr>\n",
              "      <th>Cust_ID</th>\n",
              "      <td>-0.000791</td>\n",
              "      <td>-0.001481</td>\n",
              "      <td>0.007710</td>\n",
              "      <td>1.000000</td>\n",
              "      <td>0.002312</td>\n",
              "      <td>-0.004365</td>\n",
              "      <td>-0.001301</td>\n",
              "      <td>0.001977</td>\n",
              "      <td>-0.006923</td>\n",
              "      <td>0.004214</td>\n",
              "      <td>-0.002884</td>\n",
              "      <td>0.000433</td>\n",
              "    </tr>\n",
              "    <tr>\n",
              "      <th>Part_ID</th>\n",
              "      <td>0.000189</td>\n",
              "      <td>-0.285543</td>\n",
              "      <td>-0.002561</td>\n",
              "      <td>0.002312</td>\n",
              "      <td>1.000000</td>\n",
              "      <td>-0.002952</td>\n",
              "      <td>-0.364181</td>\n",
              "      <td>0.003273</td>\n",
              "      <td>0.001491</td>\n",
              "      <td>-0.003587</td>\n",
              "      <td>-0.000393</td>\n",
              "      <td>-0.002541</td>\n",
              "    </tr>\n",
              "    <tr>\n",
              "      <th>ZIpCode</th>\n",
              "      <td>0.000158</td>\n",
              "      <td>-0.001569</td>\n",
              "      <td>0.066264</td>\n",
              "      <td>-0.004365</td>\n",
              "      <td>-0.002952</td>\n",
              "      <td>1.000000</td>\n",
              "      <td>0.000325</td>\n",
              "      <td>-0.663095</td>\n",
              "      <td>0.147370</td>\n",
              "      <td>-0.098645</td>\n",
              "      <td>0.637278</td>\n",
              "      <td>0.434479</td>\n",
              "    </tr>\n",
              "    <tr>\n",
              "      <th>Repair_or_Replace_rpr</th>\n",
              "      <td>-0.000169</td>\n",
              "      <td>-0.264751</td>\n",
              "      <td>0.000630</td>\n",
              "      <td>-0.001301</td>\n",
              "      <td>-0.364181</td>\n",
              "      <td>0.000325</td>\n",
              "      <td>1.000000</td>\n",
              "      <td>0.001422</td>\n",
              "      <td>-0.000059</td>\n",
              "      <td>0.003855</td>\n",
              "      <td>-0.003050</td>\n",
              "      <td>0.003527</td>\n",
              "    </tr>\n",
              "    <tr>\n",
              "      <th>State_Goa</th>\n",
              "      <td>0.000002</td>\n",
              "      <td>0.000157</td>\n",
              "      <td>-0.014101</td>\n",
              "      <td>0.001977</td>\n",
              "      <td>0.003273</td>\n",
              "      <td>-0.663095</td>\n",
              "      <td>0.001422</td>\n",
              "      <td>1.000000</td>\n",
              "      <td>-0.190569</td>\n",
              "      <td>-0.224982</td>\n",
              "      <td>-0.199344</td>\n",
              "      <td>-0.218871</td>\n",
              "    </tr>\n",
              "    <tr>\n",
              "      <th>State_Gujrat</th>\n",
              "      <td>0.000421</td>\n",
              "      <td>0.000091</td>\n",
              "      <td>0.114150</td>\n",
              "      <td>-0.006923</td>\n",
              "      <td>0.001491</td>\n",
              "      <td>0.147370</td>\n",
              "      <td>-0.000059</td>\n",
              "      <td>-0.190569</td>\n",
              "      <td>1.000000</td>\n",
              "      <td>-0.185052</td>\n",
              "      <td>-0.163965</td>\n",
              "      <td>-0.180026</td>\n",
              "    </tr>\n",
              "    <tr>\n",
              "      <th>State_Karnataka</th>\n",
              "      <td>-0.000329</td>\n",
              "      <td>0.001947</td>\n",
              "      <td>-0.092952</td>\n",
              "      <td>0.004214</td>\n",
              "      <td>-0.003587</td>\n",
              "      <td>-0.098645</td>\n",
              "      <td>0.003855</td>\n",
              "      <td>-0.224982</td>\n",
              "      <td>-0.185052</td>\n",
              "      <td>1.000000</td>\n",
              "      <td>-0.193574</td>\n",
              "      <td>-0.212535</td>\n",
              "    </tr>\n",
              "    <tr>\n",
              "      <th>State_Maharashtra</th>\n",
              "      <td>0.000145</td>\n",
              "      <td>0.000472</td>\n",
              "      <td>0.099579</td>\n",
              "      <td>-0.002884</td>\n",
              "      <td>-0.000393</td>\n",
              "      <td>0.637278</td>\n",
              "      <td>-0.003050</td>\n",
              "      <td>-0.199344</td>\n",
              "      <td>-0.163965</td>\n",
              "      <td>-0.193574</td>\n",
              "      <td>1.000000</td>\n",
              "      <td>-0.188316</td>\n",
              "    </tr>\n",
              "    <tr>\n",
              "      <th>State_Orrisa</th>\n",
              "      <td>-0.000085</td>\n",
              "      <td>-0.003632</td>\n",
              "      <td>-0.066521</td>\n",
              "      <td>0.000433</td>\n",
              "      <td>-0.002541</td>\n",
              "      <td>0.434479</td>\n",
              "      <td>0.003527</td>\n",
              "      <td>-0.218871</td>\n",
              "      <td>-0.180026</td>\n",
              "      <td>-0.212535</td>\n",
              "      <td>-0.188316</td>\n",
              "      <td>1.000000</td>\n",
              "    </tr>\n",
              "  </tbody>\n",
              "</table>\n",
              "</div>"
            ],
            "text/plain": [
              "                       claim_id  claim_amount  ...  State_Maharashtra  State_Orrisa\n",
              "claim_id               1.000000      0.000214  ...           0.000145     -0.000085\n",
              "claim_amount           0.000214      1.000000  ...           0.000472     -0.003632\n",
              "Dealer_ID              0.002988     -0.000154  ...           0.099579     -0.066521\n",
              "Cust_ID               -0.000791     -0.001481  ...          -0.002884      0.000433\n",
              "Part_ID                0.000189     -0.285543  ...          -0.000393     -0.002541\n",
              "ZIpCode                0.000158     -0.001569  ...           0.637278      0.434479\n",
              "Repair_or_Replace_rpr -0.000169     -0.264751  ...          -0.003050      0.003527\n",
              "State_Goa              0.000002      0.000157  ...          -0.199344     -0.218871\n",
              "State_Gujrat           0.000421      0.000091  ...          -0.163965     -0.180026\n",
              "State_Karnataka       -0.000329      0.001947  ...          -0.193574     -0.212535\n",
              "State_Maharashtra      0.000145      0.000472  ...           1.000000     -0.188316\n",
              "State_Orrisa          -0.000085     -0.003632  ...          -0.188316      1.000000\n",
              "\n",
              "[12 rows x 12 columns]"
            ]
          },
          "metadata": {
            "tags": []
          },
          "execution_count": 75
        }
      ]
    },
    {
      "cell_type": "code",
      "metadata": {
        "id": "HNo1gaMFNBYB"
      },
      "source": [
        "States = all[['Repair_or_Replace_rpr','State_Goa','State_Gujrat','State_Karnataka','State_Maharashtra','State_Orrisa']]"
      ],
      "execution_count": null,
      "outputs": []
    },
    {
      "cell_type": "code",
      "metadata": {
        "colab": {
          "base_uri": "https://localhost:8080/",
          "height": 419
        },
        "id": "vW0xvnpvWlHo",
        "outputId": "f1173c40-f975-4032-ba30-0f67f5c73356"
      },
      "source": [
        "States"
      ],
      "execution_count": null,
      "outputs": [
        {
          "output_type": "execute_result",
          "data": {
            "text/html": [
              "<div>\n",
              "<style scoped>\n",
              "    .dataframe tbody tr th:only-of-type {\n",
              "        vertical-align: middle;\n",
              "    }\n",
              "\n",
              "    .dataframe tbody tr th {\n",
              "        vertical-align: top;\n",
              "    }\n",
              "\n",
              "    .dataframe thead th {\n",
              "        text-align: right;\n",
              "    }\n",
              "</style>\n",
              "<table border=\"1\" class=\"dataframe\">\n",
              "  <thead>\n",
              "    <tr style=\"text-align: right;\">\n",
              "      <th></th>\n",
              "      <th>Repair_or_Replace_rpr</th>\n",
              "      <th>State_Goa</th>\n",
              "      <th>State_Gujrat</th>\n",
              "      <th>State_Karnataka</th>\n",
              "      <th>State_Maharashtra</th>\n",
              "      <th>State_Orrisa</th>\n",
              "    </tr>\n",
              "  </thead>\n",
              "  <tbody>\n",
              "    <tr>\n",
              "      <th>0</th>\n",
              "      <td>1</td>\n",
              "      <td>0</td>\n",
              "      <td>0</td>\n",
              "      <td>0</td>\n",
              "      <td>0</td>\n",
              "      <td>1</td>\n",
              "    </tr>\n",
              "    <tr>\n",
              "      <th>1</th>\n",
              "      <td>0</td>\n",
              "      <td>0</td>\n",
              "      <td>0</td>\n",
              "      <td>0</td>\n",
              "      <td>1</td>\n",
              "      <td>0</td>\n",
              "    </tr>\n",
              "    <tr>\n",
              "      <th>2</th>\n",
              "      <td>1</td>\n",
              "      <td>0</td>\n",
              "      <td>1</td>\n",
              "      <td>0</td>\n",
              "      <td>0</td>\n",
              "      <td>0</td>\n",
              "    </tr>\n",
              "    <tr>\n",
              "      <th>3</th>\n",
              "      <td>0</td>\n",
              "      <td>0</td>\n",
              "      <td>0</td>\n",
              "      <td>1</td>\n",
              "      <td>0</td>\n",
              "      <td>0</td>\n",
              "    </tr>\n",
              "    <tr>\n",
              "      <th>4</th>\n",
              "      <td>1</td>\n",
              "      <td>0</td>\n",
              "      <td>0</td>\n",
              "      <td>0</td>\n",
              "      <td>0</td>\n",
              "      <td>0</td>\n",
              "    </tr>\n",
              "    <tr>\n",
              "      <th>...</th>\n",
              "      <td>...</td>\n",
              "      <td>...</td>\n",
              "      <td>...</td>\n",
              "      <td>...</td>\n",
              "      <td>...</td>\n",
              "      <td>...</td>\n",
              "    </tr>\n",
              "    <tr>\n",
              "      <th>20090</th>\n",
              "      <td>0</td>\n",
              "      <td>0</td>\n",
              "      <td>1</td>\n",
              "      <td>0</td>\n",
              "      <td>0</td>\n",
              "      <td>0</td>\n",
              "    </tr>\n",
              "    <tr>\n",
              "      <th>20091</th>\n",
              "      <td>0</td>\n",
              "      <td>0</td>\n",
              "      <td>0</td>\n",
              "      <td>0</td>\n",
              "      <td>0</td>\n",
              "      <td>1</td>\n",
              "    </tr>\n",
              "    <tr>\n",
              "      <th>20092</th>\n",
              "      <td>0</td>\n",
              "      <td>0</td>\n",
              "      <td>0</td>\n",
              "      <td>0</td>\n",
              "      <td>1</td>\n",
              "      <td>0</td>\n",
              "    </tr>\n",
              "    <tr>\n",
              "      <th>20093</th>\n",
              "      <td>0</td>\n",
              "      <td>1</td>\n",
              "      <td>0</td>\n",
              "      <td>0</td>\n",
              "      <td>0</td>\n",
              "      <td>0</td>\n",
              "    </tr>\n",
              "    <tr>\n",
              "      <th>20094</th>\n",
              "      <td>1</td>\n",
              "      <td>0</td>\n",
              "      <td>0</td>\n",
              "      <td>0</td>\n",
              "      <td>0</td>\n",
              "      <td>0</td>\n",
              "    </tr>\n",
              "  </tbody>\n",
              "</table>\n",
              "<p>20095 rows × 6 columns</p>\n",
              "</div>"
            ],
            "text/plain": [
              "       Repair_or_Replace_rpr  State_Goa  ...  State_Maharashtra  State_Orrisa\n",
              "0                          1          0  ...                  0             1\n",
              "1                          0          0  ...                  1             0\n",
              "2                          1          0  ...                  0             0\n",
              "3                          0          0  ...                  0             0\n",
              "4                          1          0  ...                  0             0\n",
              "...                      ...        ...  ...                ...           ...\n",
              "20090                      0          0  ...                  0             0\n",
              "20091                      0          0  ...                  0             1\n",
              "20092                      0          0  ...                  1             0\n",
              "20093                      0          1  ...                  0             0\n",
              "20094                      1          0  ...                  0             0\n",
              "\n",
              "[20095 rows x 6 columns]"
            ]
          },
          "metadata": {
            "tags": []
          },
          "execution_count": 77
        }
      ]
    },
    {
      "cell_type": "code",
      "metadata": {
        "colab": {
          "base_uri": "https://localhost:8080/",
          "height": 387
        },
        "id": "_bOy4ffWP1R_",
        "outputId": "6ff00708-8aa7-4092-8812-b361621f0d8a"
      },
      "source": [
        "sns.heatmap(all.isnull())"
      ],
      "execution_count": null,
      "outputs": [
        {
          "output_type": "execute_result",
          "data": {
            "text/plain": [
              "<matplotlib.axes._subplots.AxesSubplot at 0x7f7c3c2ef690>"
            ]
          },
          "metadata": {
            "tags": []
          },
          "execution_count": 78
        },
        {
          "output_type": "display_data",
          "data": {
            "image/png": "[encoded data removed]",
            "text/plain": [
              "<Figure size 432x288 with 2 Axes>"
            ]
          },
          "metadata": {
            "tags": [],
            "needs_background": "light"
          }
        }
      ]
    },
    {
      "cell_type": "code",
      "metadata": {
        "id": "Ui51hBrlSGoa"
      },
      "source": [
        "x2 = all[['Part_ID','State_Goa','State_Gujrat','State_Karnataka','State_Maharashtra','State_Orrisa']]\n",
        "y2 = all['Repair_or_Replace_rpr'] "
      ],
      "execution_count": null,
      "outputs": []
    },
    {
      "cell_type": "code",
      "metadata": {
        "colab": {
          "base_uri": "https://localhost:8080/"
        },
        "id": "ARhd_fJpmWgg",
        "outputId": "c06c0768-b7a4-4e3e-fd86-0b0cf6434fae"
      },
      "source": [
        "from sklearn.tree import DecisionTreeClassifier\n",
        "classifier = DecisionTreeClassifier()\n",
        "cross_val_score(classifier,x2,y2,cv=10,scoring='accuracy').mean()*100"
      ],
      "execution_count": null,
      "outputs": [
        {
          "output_type": "execute_result",
          "data": {
            "text/plain": [
              "76.66085946573752"
            ]
          },
          "metadata": {
            "tags": []
          },
          "execution_count": 80
        }
      ]
    },
    {
      "cell_type": "markdown",
      "metadata": {
        "id": "tTCZpyq6_ATv"
      },
      "source": [
        "# Conclusion\n"
      ]
    },
    {
      "cell_type": "markdown",
      "metadata": {
        "id": "f38r_C9r_Mzk"
      },
      "source": [
        "Majority of the Parts are being replaced.\n",
        "\n",
        "Parts in Goa are among the most claimed parts."
      ]
    }
  ]
}